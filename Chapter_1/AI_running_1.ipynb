{
 "cells": [
  {
   "cell_type": "code",
   "execution_count": 11,
   "metadata": {
    "scrolled": false
   },
   "outputs": [
    {
     "name": "stderr",
     "output_type": "stream",
     "text": [
      "C:\\Users\\tsuchida\\Anaconda3\\lib\\site-packages\\smart_open\\smart_open_lib.py:402: UserWarning: This function is deprecated, use smart_open.open instead. See the migration notes for details: https://github.com/RaRe-Technologies/smart_open/blob/master/README.rst#migrating-to-the-new-open-function\n",
      "  'See the migration notes for details: %s' % _MIGRATION_NOTES_URL\n"
     ]
    },
    {
     "name": "stdout",
     "output_type": "stream",
     "text": [
      "[-1.3280, -1.8193]\n",
      "[ 3.1249,  1.4599]\n",
      "[ 3.6546, -1.2875]\n",
      "[-2.2643,  3.2244]\n",
      "[-3.1873, -1.5775]\n"
     ]
    },
    {
     "data": {
      "image/png": "[encoded data removed]",
      "text/plain": [
       "<Figure size 432x288 with 1 Axes>"
      ]
     },
     "metadata": {
      "needs_background": "light"
     },
     "output_type": "display_data"
    }
   ],
   "source": [
    "#AI-TECHGYM-1-12-A-2\n",
    "#自然言語処理\n",
    "\n",
    "#インポート\n",
    "from gensim.models import word2vec\n",
    "import numpy as np\n",
    "import matplotlib.pyplot as plt\n",
    "import matplotlib.font_manager as font_manager\n",
    "\n",
    "#PCA\n",
    "from sklearn.decomposition import PCA\n",
    "\n",
    "#フォントの準備\n",
    "import urllib.request as req\n",
    "url = \"https://github.com/hokuto-HIRANO/Word2Vec/raw/master/font/Osaka.ttc\"\n",
    "req.urlretrieve(url, \"./Osaka.ttc\")\n",
    "\n",
    "#フォントの指定\n",
    "FONTPATH='./Osaka.ttc'\n",
    "prop = font_manager.FontProperties(fname=FONTPATH)\n",
    "\n",
    "#モデルの読み込み\n",
    "model_path = './words.model'\n",
    "model = word2vec.Word2Vec.load(model_path)\n",
    "\n",
    "#対象の単語\n",
    "words = []\n",
    "words.append(\"老人\")\n",
    "words.append(\"海\")\n",
    "words.append(\"ヘミングウェイ\")\n",
    "words.append(\"魚\")\n",
    "words.append(\"彼\")\n",
    "\n",
    "vectors = []\n",
    "\n",
    "for w in words:\n",
    "    vectors.append(model.wv[w])\n",
    "\n",
    "#単語のベクトル表現を2次元に圧縮する\n",
    "pca = PCA(n_components=2)\n",
    "pca.fit(vectors)\n",
    "vectors_pca = pca.transform(vectors)\n",
    "\n",
    "for w in vectors_pca:\n",
    "    #配列形式に整形\n",
    "    print(np.array2string(w, separator=', ', formatter={'float_kind': lambda x: '{: .4f}'.format(x)}))\n",
    "\n",
    "#ブロットする\n",
    "k = 0\n",
    "while k < len(vectors_pca):\n",
    "    #点プロット\n",
    "    plt.plot(vectors_pca[k][0], vectors_pca[k][1], ms=5.0, zorder=2, marker=\"o\")\n",
    "\n",
    "    #文字プロット\n",
    "    plt.annotate(words[k], (vectors_pca[k][0], vectors_pca[k][1]), fontproperties=prop, fontsize=15)\n",
    "\n",
    "    k += 1\n",
    "\n",
    "#グラフ表示\n",
    "plt.show()\n"
   ]
  },
  {
   "cell_type": "code",
   "execution_count": 14,
   "metadata": {
    "scrolled": false
   },
   "outputs": [
    {
     "name": "stdout",
     "output_type": "stream",
     "text": [
      "する 0.9980878829956055\n",
      "よう 0.9979139566421509\n",
      "ロープ 0.9977824687957764\n",
      "彼 0.997760534286499\n",
      "魚 0.9976662397384644\n",
      "\n",
      "ロープ 0.9983007907867432\n",
      "する 0.9980823993682861\n",
      "船 0.9979177117347717\n",
      "いる 0.9977597594261169\n",
      "魚 0.9976441860198975\n"
     ]
    }
   ],
   "source": [
    "old = model.wv.most_similar(positive=['老人'], topn=5)\n",
    "#old = model.wv.similar_by_vector('老人') \n",
    "#old = model.wv.similar_by_word('老人') \n",
    "for item in pro:\n",
    "  print(item[0], item[1])\n",
    "\n",
    "print()\n",
    "\n",
    "sea = model.wv.most_similar(positive=['海'], topn=5)\n",
    "for item in sea:\n",
    "  print(item[0], item[1])"
   ]
  },
  {
   "cell_type": "code",
   "execution_count": 9,
   "metadata": {},
   "outputs": [
    {
     "name": "stdout",
     "output_type": "stream",
     "text": [
      "[-0.01597747 -0.07197819  0.05145754 -0.00362651 -0.05785058 -0.06375936\n",
      "  0.0687388   0.07373976  0.10660839  0.06858838  0.04622833 -0.02503598\n",
      "  0.01004511  0.06323667 -0.04971182  0.11643942  0.05509336  0.00970035\n",
      "  0.05378618  0.04831289 -0.00997283  0.01753249  0.01398721 -0.05840924\n",
      "  0.00500582  0.0556059   0.03506973 -0.05495626 -0.04981653 -0.10574924\n",
      " -0.01675132 -0.07553081 -0.04409749  0.04958062  0.04105351  0.05156162\n",
      " -0.01398178  0.12140919  0.00330613 -0.0042523   0.03092846  0.03102338\n",
      "  0.07848403 -0.00197029  0.01726232 -0.0409776   0.00295002 -0.02116165\n",
      " -0.05198758  0.02792369 -0.09529288  0.01263538  0.10742967  0.06113813\n",
      "  0.01715404  0.00233667 -0.1373577  -0.03856918 -0.02026626  0.09201654\n",
      "  0.07473162 -0.08599371  0.03033423  0.00912722 -0.02067043  0.0207465\n",
      "  0.03591751 -0.02837273  0.00927966  0.09845412 -0.01935963 -0.09998393\n",
      "  0.05706836  0.08168416 -0.07492607 -0.09251877 -0.00940691  0.02282015\n",
      " -0.05639417 -0.10887287  0.04944274 -0.05515872 -0.04606252 -0.02870331\n",
      " -0.04830964  0.07373114 -0.00129129 -0.03830634  0.01295213 -0.05260622\n",
      " -0.06644843 -0.00836729  0.13003016 -0.04693341 -0.06379282  0.05105527\n",
      "  0.04910221  0.01967666  0.09645366  0.04672376]\n",
      "する 0.9980878829956055\n",
      "よう 0.9979139566421509\n",
      "ロープ 0.9977824687957764\n",
      "彼 0.997760534286499\n",
      "魚 0.9976662397384644\n"
     ]
    }
   ],
   "source": [
    "#Word2Vec\n",
    "from gensim.models import Word2Vec\n",
    "\n",
    "#モデル\n",
    "model = Word2Vec(word_list, min_count=1)\n",
    "vector = model.wv['老人']\n",
    "\n",
    "print(vector)\n",
    "\n",
    "pro = model.wv.most_similar(positive=['老人'], topn=5)\n",
    "#pro = model.wv.similar_by_vector('プログラミング') \n",
    "#pro = model.wv.similar_by_word('プログラミング') \n",
    "for item in pro:\n",
    "    print(item[0], item[1])"
   ]
  }
 ],
 "metadata": {
  "kernelspec": {
   "display_name": "Python 3",
   "language": "python",
   "name": "python3"
  },
  "language_info": {
   "codemirror_mode": {
    "name": "ipython",
    "version": 3
   },
   "file_extension": ".py",
   "mimetype": "text/x-python",
   "name": "python",
   "nbconvert_exporter": "python",
   "pygments_lexer": "ipython3",
   "version": "3.7.3"
  }
 },
 "nbformat": 4,
 "nbformat_minor": 2
}
