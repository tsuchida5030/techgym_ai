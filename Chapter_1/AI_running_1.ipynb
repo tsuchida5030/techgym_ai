{
 "cells": [
  {
   "cell_type": "code",
   "execution_count": 28,
   "metadata": {
    "tags": []
   },
   "outputs": [
    {
     "name": "stdout",
     "output_type": "stream",
     "text": [
      "データ形式(X,y):(12330, 18)\n",
      "欠損データの数:0\n"
     ]
    },
    {
     "data": {
      "text/plain": [
       "0    3095\n",
       "1     421\n",
       "2      10\n",
       "3    7486\n",
       "4    1192\n",
       "5     126\n",
       "Name: cluster, dtype: int64"
      ]
     },
     "metadata": {},
     "output_type": "display_data"
    },
    {
     "data": {
      "image/png": "[encoded data removed]",
      "text/plain": [
       "<Figure size 432x288 with 1 Axes>"
      ]
     },
     "metadata": {
      "needs_background": "light"
     },
     "output_type": "display_data"
    }
   ],
   "source": [
    "#AI-TECHGYM-1-4-A-1\n",
    "#教師なし学習 k-mean法\n",
    "\n",
    "# データ加工・処理・分析ライブラリ\n",
    "import pandas as pd\n",
    "\n",
    "# 実行フォルダ\n",
    "import os\n",
    "os.chdir(r\"C:\\Users\\tsuchida\\Documents\\techgym_セミナー\\TortoiseGit_resorce\\techgym_ai\\Chapter_1\\Answer_sheet\\AI_Chapter1_saved_files\")\n",
    "\n",
    "# k-means法を使うためのインポート\n",
    "from sklearn.cluster import KMeans\n",
    "\n",
    "import matplotlib.pyplot as plt\n",
    "\n",
    "# データがあるurl の指定\n",
    "file_url = 'https://archive.ics.uci.edu/ml/machine-learning-databases/00468/online_shoppers_intention.csv'\n",
    "\n",
    "# データを取得して展開する\n",
    "#対象データを読み込み\n",
    "shoppers= pd.read_csv(file_url)\n",
    "\n",
    "#データ形式、欠損データ\n",
    "print('データ形式(X,y):{}'.format(shoppers.shape))\n",
    "print('欠損データの数:{}'.format(shoppers.isnull().sum().sum()))\n",
    "\n",
    "view_columns = ['Administrative_Duration', 'Informational_Duration', 'ProductRelated_Duration', 'Region', 'SpecialDay']\n",
    "df_view = shoppers.loc[:, view_columns]\n",
    "kmeans = KMeans(init='random', n_clusters=6)\n",
    "kmeans.fit(df_view)\n",
    "df_view['cluster'] = pd.Series(kmeans.labels_)\n",
    "\n",
    "# 各クラスタの数を表示\n",
    "clusters = df_view['cluster'].value_counts().sort_index()\n",
    "display(clusters)\n",
    "\n",
    "# 各クラスタの数をグラフにプロット\n",
    "plt.bar(clusters.index, clusters)\n",
    "ax.set_xlabel('cluster number')\n",
    "ax.set_ylabel('count')\n",
    "plt.show()"
   ]
  },
  {
   "cell_type": "code",
   "execution_count": 13,
   "metadata": {
    "tags": []
   },
   "outputs": [
    {
     "data": {
      "text/plain": [
       "pandas.core.series.Series"
      ]
     },
     "execution_count": 13,
     "metadata": {},
     "output_type": "execute_result"
    }
   ],
   "source": [
    "type(df_view.loc[:,'cluster'])"
   ]
  },
  {
   "cell_type": "code",
   "execution_count": 32,
   "metadata": {
    "tags": []
   },
   "outputs": [
    {
     "data": {
      "text/plain": [
       "Administrative             12330\n",
       "Administrative_Duration    12330\n",
       "Informational              12330\n",
       "Informational_Duration     12330\n",
       "ProductRelated             12330\n",
       "ProductRelated_Duration    12330\n",
       "BounceRates                12330\n",
       "ExitRates                  12330\n",
       "PageValues                 12330\n",
       "SpecialDay                 12330\n",
       "Month                      12330\n",
       "OperatingSystems           12330\n",
       "Browser                    12330\n",
       "Region                     12330\n",
       "TrafficType                12330\n",
       "VisitorType                12330\n",
       "Weekend                    12330\n",
       "Revenue                    12330\n",
       "dtype: int64"
      ]
     },
     "execution_count": 32,
     "metadata": {},
     "output_type": "execute_result"
    }
   ],
   "source": [
    "shoppers.count(False) - shoppers.isnull().sum()"
   ]
  },
  {
   "cell_type": "code",
   "execution_count": 30,
   "metadata": {},
   "outputs": [
    {
     "name": "stdout",
     "output_type": "stream",
     "text": [
      "<class 'pandas.core.frame.DataFrame'>\n",
      "RangeIndex: 12330 entries, 0 to 12329\n",
      "Data columns (total 18 columns):\n",
      " #   Column                   Non-Null Count  Dtype  \n",
      "---  ------                   --------------  -----  \n",
      " 0   Administrative           12330 non-null  int64  \n",
      " 1   Administrative_Duration  12330 non-null  float64\n",
      " 2   Informational            12330 non-null  int64  \n",
      " 3   Informational_Duration   12330 non-null  float64\n",
      " 4   ProductRelated           12330 non-null  int64  \n",
      " 5   ProductRelated_Duration  12330 non-null  float64\n",
      " 6   BounceRates              12330 non-null  float64\n",
      " 7   ExitRates                12330 non-null  float64\n",
      " 8   PageValues               12330 non-null  float64\n",
      " 9   SpecialDay               12330 non-null  float64\n",
      " 10  Month                    12330 non-null  object \n",
      " 11  OperatingSystems         12330 non-null  int64  \n",
      " 12  Browser                  12330 non-null  int64  \n",
      " 13  Region                   12330 non-null  int64  \n",
      " 14  TrafficType              12330 non-null  int64  \n",
      " 15  VisitorType              12330 non-null  object \n",
      " 16  Weekend                  12330 non-null  bool   \n",
      " 17  Revenue                  12330 non-null  bool   \n",
      "dtypes: bool(2), float64(7), int64(7), object(2)\n",
      "memory usage: 1.5+ MB\n"
     ]
    }
   ],
   "source": [
    "shoppers.info()"
   ]
  },
  {
   "cell_type": "code",
   "execution_count": 27,
   "metadata": {
    "tags": []
   },
   "outputs": [
    {
     "data": {
      "text/plain": [
       "Administrative             12330\n",
       "Administrative_Duration    12330\n",
       "Informational              12330\n",
       "Informational_Duration     12330\n",
       "ProductRelated             12330\n",
       "ProductRelated_Duration    12330\n",
       "BounceRates                12330\n",
       "ExitRates                  12330\n",
       "PageValues                 12330\n",
       "SpecialDay                 12330\n",
       "Month                      12330\n",
       "OperatingSystems           12330\n",
       "Browser                    12330\n",
       "Region                     12330\n",
       "TrafficType                12330\n",
       "VisitorType                12330\n",
       "Weekend                    12330\n",
       "Revenue                    12330\n",
       "dtype: int64"
      ]
     },
     "execution_count": 27,
     "metadata": {},
     "output_type": "execute_result"
    }
   ],
   "source": [
    "shoppers.count()"
   ]
  },
  {
   "cell_type": "code",
   "execution_count": 49,
   "metadata": {},
   "outputs": [
    {
     "data": {
      "text/html": [
       "<div>\n",
       "<style scoped>\n",
       "    .dataframe tbody tr th:only-of-type {\n",
       "        vertical-align: middle;\n",
       "    }\n",
       "\n",
       "    .dataframe tbody tr th {\n",
       "        vertical-align: top;\n",
       "    }\n",
       "\n",
       "    .dataframe thead th {\n",
       "        text-align: right;\n",
       "    }\n",
       "</style>\n",
       "<table border=\"1\" class=\"dataframe\">\n",
       "  <thead>\n",
       "    <tr style=\"text-align: right;\">\n",
       "      <th>SpecialDay</th>\n",
       "      <th>[0.0, 0.2)</th>\n",
       "      <th>[0.2, 0.4)</th>\n",
       "      <th>[0.4, 0.6)</th>\n",
       "      <th>[0.6, 0.8)</th>\n",
       "      <th>[0.8, 1.0)</th>\n",
       "    </tr>\n",
       "    <tr>\n",
       "      <th>cluster_number</th>\n",
       "      <th></th>\n",
       "      <th></th>\n",
       "      <th></th>\n",
       "      <th></th>\n",
       "      <th></th>\n",
       "    </tr>\n",
       "  </thead>\n",
       "  <tbody>\n",
       "    <tr>\n",
       "      <th>0</th>\n",
       "      <td>386</td>\n",
       "      <td>6</td>\n",
       "      <td>7</td>\n",
       "      <td>2</td>\n",
       "      <td>15</td>\n",
       "    </tr>\n",
       "    <tr>\n",
       "      <th>1</th>\n",
       "      <td>10</td>\n",
       "      <td>0</td>\n",
       "      <td>0</td>\n",
       "      <td>0</td>\n",
       "      <td>0</td>\n",
       "    </tr>\n",
       "    <tr>\n",
       "      <th>2</th>\n",
       "      <td>1096</td>\n",
       "      <td>9</td>\n",
       "      <td>28</td>\n",
       "      <td>26</td>\n",
       "      <td>20</td>\n",
       "    </tr>\n",
       "    <tr>\n",
       "      <th>3</th>\n",
       "      <td>2807</td>\n",
       "      <td>49</td>\n",
       "      <td>48</td>\n",
       "      <td>83</td>\n",
       "      <td>71</td>\n",
       "    </tr>\n",
       "    <tr>\n",
       "      <th>4</th>\n",
       "      <td>6657</td>\n",
       "      <td>114</td>\n",
       "      <td>159</td>\n",
       "      <td>240</td>\n",
       "      <td>218</td>\n",
       "    </tr>\n",
       "    <tr>\n",
       "      <th>5</th>\n",
       "      <td>123</td>\n",
       "      <td>0</td>\n",
       "      <td>1</td>\n",
       "      <td>0</td>\n",
       "      <td>1</td>\n",
       "    </tr>\n",
       "  </tbody>\n",
       "</table>\n",
       "</div>"
      ],
      "text/plain": [
       "SpecialDay      [0.0, 0.2)  [0.2, 0.4)  [0.4, 0.6)  [0.6, 0.8)  [0.8, 1.0)\n",
       "cluster_number                                                            \n",
       "0                      386           6           7           2          15\n",
       "1                       10           0           0           0           0\n",
       "2                     1096           9          28          26          20\n",
       "3                     2807          49          48          83          71\n",
       "4                     6657         114         159         240         218\n",
       "5                      123           0           1           0           1"
      ]
     },
     "metadata": {},
     "output_type": "display_data"
    },
    {
     "data": {
      "text/html": [
       "<div>\n",
       "<style scoped>\n",
       "    .dataframe tbody tr th:only-of-type {\n",
       "        vertical-align: middle;\n",
       "    }\n",
       "\n",
       "    .dataframe tbody tr th {\n",
       "        vertical-align: top;\n",
       "    }\n",
       "\n",
       "    .dataframe thead th {\n",
       "        text-align: right;\n",
       "    }\n",
       "</style>\n",
       "<table border=\"1\" class=\"dataframe\">\n",
       "  <thead>\n",
       "    <tr style=\"text-align: right;\">\n",
       "      <th>Region</th>\n",
       "      <th>1</th>\n",
       "      <th>2</th>\n",
       "      <th>3</th>\n",
       "      <th>4</th>\n",
       "      <th>5</th>\n",
       "      <th>6</th>\n",
       "      <th>7</th>\n",
       "      <th>8</th>\n",
       "    </tr>\n",
       "    <tr>\n",
       "      <th>cluster_number</th>\n",
       "      <th></th>\n",
       "      <th></th>\n",
       "      <th></th>\n",
       "      <th></th>\n",
       "      <th></th>\n",
       "      <th></th>\n",
       "      <th></th>\n",
       "      <th></th>\n",
       "    </tr>\n",
       "  </thead>\n",
       "  <tbody>\n",
       "    <tr>\n",
       "      <th>0</th>\n",
       "      <td>181</td>\n",
       "      <td>39</td>\n",
       "      <td>83</td>\n",
       "      <td>35</td>\n",
       "      <td>12</td>\n",
       "      <td>25</td>\n",
       "      <td>17</td>\n",
       "      <td>15</td>\n",
       "    </tr>\n",
       "    <tr>\n",
       "      <th>1</th>\n",
       "      <td>8</td>\n",
       "      <td>0</td>\n",
       "      <td>1</td>\n",
       "      <td>1</td>\n",
       "      <td>0</td>\n",
       "      <td>0</td>\n",
       "      <td>0</td>\n",
       "      <td>0</td>\n",
       "    </tr>\n",
       "    <tr>\n",
       "      <th>2</th>\n",
       "      <td>464</td>\n",
       "      <td>119</td>\n",
       "      <td>239</td>\n",
       "      <td>110</td>\n",
       "      <td>27</td>\n",
       "      <td>64</td>\n",
       "      <td>78</td>\n",
       "      <td>39</td>\n",
       "    </tr>\n",
       "    <tr>\n",
       "      <th>3</th>\n",
       "      <td>1145</td>\n",
       "      <td>302</td>\n",
       "      <td>616</td>\n",
       "      <td>302</td>\n",
       "      <td>79</td>\n",
       "      <td>212</td>\n",
       "      <td>207</td>\n",
       "      <td>120</td>\n",
       "    </tr>\n",
       "    <tr>\n",
       "      <th>4</th>\n",
       "      <td>2912</td>\n",
       "      <td>667</td>\n",
       "      <td>1444</td>\n",
       "      <td>727</td>\n",
       "      <td>196</td>\n",
       "      <td>500</td>\n",
       "      <td>453</td>\n",
       "      <td>260</td>\n",
       "    </tr>\n",
       "    <tr>\n",
       "      <th>5</th>\n",
       "      <td>70</td>\n",
       "      <td>9</td>\n",
       "      <td>20</td>\n",
       "      <td>7</td>\n",
       "      <td>4</td>\n",
       "      <td>4</td>\n",
       "      <td>6</td>\n",
       "      <td>0</td>\n",
       "    </tr>\n",
       "  </tbody>\n",
       "</table>\n",
       "</div>"
      ],
      "text/plain": [
       "Region             1    2     3    4    5    6    7    8\n",
       "cluster_number                                          \n",
       "0                181   39    83   35   12   25   17   15\n",
       "1                  8    0     1    1    0    0    0    0\n",
       "2                464  119   239  110   27   64   78   39\n",
       "3               1145  302   616  302   79  212  207  120\n",
       "4               2912  667  1444  727  196  500  453  260\n",
       "5                 70    9    20    7    4    4    6    0"
      ]
     },
     "metadata": {},
     "output_type": "display_data"
    }
   ],
   "source": [
    "#AI-TECHGYM-1-4-A-3\n",
    "#教師なし学習 k-mean法\n",
    "\n",
    "# データ加工・処理・分析ライブラリ\n",
    "import pandas as pd\n",
    "from pandas import Series, DataFrame\n",
    "\n",
    "# 可視化ライブラリ\n",
    "import seaborn as sns\n",
    "import matplotlib.pyplot as plt\n",
    "%matplotlib inline\n",
    "\n",
    "# k-means法を使うためのインポート\n",
    "from sklearn.cluster import KMeans\n",
    "\n",
    "# データがあるurl の指定\n",
    "file_url = 'https://archive.ics.uci.edu/ml/machine-learning-databases/00468/online_shoppers_intention.csv'\n",
    "\n",
    "# データを取得して展開する\n",
    "#対象データを読み込み\n",
    "shoppers= pd.read_csv(file_url)\n",
    "\n",
    "# データの列の絞り込み\n",
    "shoppers_sub = shoppers[['Administrative_Duration','Informational_Duration','ProductRelated_Duration','Region','SpecialDay']]\n",
    "\n",
    "# KMeansクラスの初期化\n",
    "kmeans = KMeans(init='random', n_clusters=6, random_state=0)\n",
    "\n",
    "# クラスターの重心を計算\n",
    "kmeans.fit(shoppers_sub)\n",
    "\n",
    "# クラスター番号をpandasのSeriesオブジェクトに変換\n",
    "labels = pd.Series(kmeans.labels_, name='cluster_number')\n",
    "\n",
    "# 金融機関のデータにクラスター番号のデータを結合\n",
    "shoppers_with_cluster = pd.concat([shoppers, labels], axis=1)\n",
    "\n",
    "# 分割のための区切りを設定\n",
    "bins = [0,0.2,0.4,0.6,0.8,1]\n",
    "\n",
    "# 上の区切りをもとに金融機関のデータを分割し、qcut_age変数に各データの年齢層を設定\n",
    "qcut_sp = pd.cut(shoppers_with_cluster.SpecialDay, bins, right=False)\n",
    "\n",
    "# クラスタ番号と年齢層を結合\n",
    "df = pd.concat([shoppers_with_cluster.cluster_number, qcut_sp], axis=1)\n",
    "\n",
    "# クラスタ番号と年齢層を軸に集計し、年齢層を列に設定\n",
    "cross_cluster_sp = df.groupby(['cluster_number', 'SpecialDay']).size().unstack().fillna(0)\n",
    "display(cross_cluster_sp)\n",
    "\n",
    "# 分割のための区切りを設定\n",
    "bins_2 = [1,2,3,4,5,6,7,8,9]\n",
    "\n",
    "# 上の区切りをもとに金融機関のデータを分割し、qcut_age変数に各データの年齢層を設定\n",
    "qcut_r = pd.cut(shoppers_with_cluster.Region, bins_2, right=False, labels=[1,2,3,4,5,6,7,8])\n",
    "\n",
    "# クラスタ番号と年齢層を結合\n",
    "df = pd.concat([shoppers_with_cluster.cluster_number, qcut_r], axis=1)\n",
    "\n",
    "# クラスタ番号と年齢層を軸に集計し、年齢層を列に設定\n",
    "cross_cluster_r = df.groupby(['cluster_number', 'Region']).size().unstack().fillna(0)\n",
    "display(cross_cluster_r)\n"
   ]
  }
 ],
 "metadata": {
  "kernelspec": {
   "display_name": "Python 3 (ipykernel)",
   "language": "python",
   "name": "python3"
  },
  "language_info": {
   "codemirror_mode": {
    "name": "ipython",
    "version": 3
   },
   "file_extension": ".py",
   "mimetype": "text/x-python",
   "name": "python",
   "nbconvert_exporter": "python",
   "pygments_lexer": "ipython3",
   "version": "3.7.3"
  }
 },
 "nbformat": 4,
 "nbformat_minor": 4
}
