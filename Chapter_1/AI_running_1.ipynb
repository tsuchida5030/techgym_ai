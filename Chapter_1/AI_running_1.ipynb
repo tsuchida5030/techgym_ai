{
 "cells": [
  {
   "cell_type": "code",
   "execution_count": 12,
   "metadata": {},
   "outputs": [],
   "source": [
    "#実行場所\n",
    "import os\n",
    "os.chdir(r\"C:\\Users\\tsuchida\\Documents\\techgym_セミナー\\TortoiseGit_resorce\\techgym_ai\\Chapter_1\\Answer_sheet\\AI_Chapter1_saved_files\")"
   ]
  },
  {
   "cell_type": "code",
   "execution_count": 14,
   "metadata": {
    "scrolled": true
   },
   "outputs": [
    {
     "name": "stdout",
     "output_type": "stream",
     "text": [
      "stanby-jobs-200d-word2vector.bin EXIST.\n"
     ]
    },
    {
     "data": {
      "text/html": [
       "<div>\n",
       "<style scoped>\n",
       "    .dataframe tbody tr th:only-of-type {\n",
       "        vertical-align: middle;\n",
       "    }\n",
       "\n",
       "    .dataframe tbody tr th {\n",
       "        vertical-align: top;\n",
       "    }\n",
       "\n",
       "    .dataframe thead th {\n",
       "        text-align: right;\n",
       "    }\n",
       "</style>\n",
       "<table border=\"1\" class=\"dataframe\">\n",
       "  <thead>\n",
       "    <tr style=\"text-align: right;\">\n",
       "      <th></th>\n",
       "      <th>words</th>\n",
       "    </tr>\n",
       "  </thead>\n",
       "  <tbody>\n",
       "    <tr>\n",
       "      <th>0</th>\n",
       "      <td>合計</td>\n",
       "    </tr>\n",
       "    <tr>\n",
       "      <th>1</th>\n",
       "      <td>遣唐使</td>\n",
       "    </tr>\n",
       "    <tr>\n",
       "      <th>2</th>\n",
       "      <td>熱帯魚</td>\n",
       "    </tr>\n",
       "    <tr>\n",
       "      <th>3</th>\n",
       "      <td>向け</td>\n",
       "    </tr>\n",
       "    <tr>\n",
       "      <th>4</th>\n",
       "      <td>焼き</td>\n",
       "    </tr>\n",
       "  </tbody>\n",
       "</table>\n",
       "</div>"
      ],
      "text/plain": [
       "  words\n",
       "0    合計\n",
       "1   遣唐使\n",
       "2   熱帯魚\n",
       "3    向け\n",
       "4    焼き"
      ]
     },
     "metadata": {},
     "output_type": "display_data"
    },
    {
     "name": "stdout",
     "output_type": "stream",
     "text": [
      "[['関東', '関西', '0.7552338670281852'], ['北', '西', '0.818989671306523'], ['海', '山', '0.7102969980315794'], ['長崎', '福岡', '0.7406691703356508'], ['福岡', '長崎', '0.7406691703356508'], ['福岡', '東京', '0.7367493216623424'], ['東京', '福岡', '0.7367493216623424'], ['いろいろ', '色々', '0.7147815817895989'], ['関西', '関東', '0.7552338670281852'], ['関西', '九州', '0.7193674742629778'], ['九州', '関西', '0.7193674742629778'], ['山', '海', '0.7102969980315794'], ['西', '北', '0.818989671306523'], ['色々', 'いろいろ', '0.7147815817895989']]\n"
     ]
    },
    {
     "data": {
      "text/html": [
       "<div>\n",
       "<style scoped>\n",
       "    .dataframe tbody tr th:only-of-type {\n",
       "        vertical-align: middle;\n",
       "    }\n",
       "\n",
       "    .dataframe tbody tr th {\n",
       "        vertical-align: top;\n",
       "    }\n",
       "\n",
       "    .dataframe thead th {\n",
       "        text-align: right;\n",
       "    }\n",
       "</style>\n",
       "<table border=\"1\" class=\"dataframe\">\n",
       "  <thead>\n",
       "    <tr style=\"text-align: right;\">\n",
       "      <th></th>\n",
       "      <th>単語A</th>\n",
       "      <th>単語B</th>\n",
       "      <th>類似度</th>\n",
       "    </tr>\n",
       "  </thead>\n",
       "  <tbody>\n",
       "    <tr>\n",
       "      <th>0</th>\n",
       "      <td>関東</td>\n",
       "      <td>関西</td>\n",
       "      <td>0.7552338670281852</td>\n",
       "    </tr>\n",
       "    <tr>\n",
       "      <th>1</th>\n",
       "      <td>北</td>\n",
       "      <td>西</td>\n",
       "      <td>0.818989671306523</td>\n",
       "    </tr>\n",
       "    <tr>\n",
       "      <th>2</th>\n",
       "      <td>海</td>\n",
       "      <td>山</td>\n",
       "      <td>0.7102969980315794</td>\n",
       "    </tr>\n",
       "    <tr>\n",
       "      <th>3</th>\n",
       "      <td>長崎</td>\n",
       "      <td>福岡</td>\n",
       "      <td>0.7406691703356508</td>\n",
       "    </tr>\n",
       "    <tr>\n",
       "      <th>4</th>\n",
       "      <td>福岡</td>\n",
       "      <td>長崎</td>\n",
       "      <td>0.7406691703356508</td>\n",
       "    </tr>\n",
       "    <tr>\n",
       "      <th>5</th>\n",
       "      <td>福岡</td>\n",
       "      <td>東京</td>\n",
       "      <td>0.7367493216623424</td>\n",
       "    </tr>\n",
       "    <tr>\n",
       "      <th>6</th>\n",
       "      <td>東京</td>\n",
       "      <td>福岡</td>\n",
       "      <td>0.7367493216623424</td>\n",
       "    </tr>\n",
       "    <tr>\n",
       "      <th>7</th>\n",
       "      <td>いろいろ</td>\n",
       "      <td>色々</td>\n",
       "      <td>0.7147815817895989</td>\n",
       "    </tr>\n",
       "    <tr>\n",
       "      <th>8</th>\n",
       "      <td>関西</td>\n",
       "      <td>関東</td>\n",
       "      <td>0.7552338670281852</td>\n",
       "    </tr>\n",
       "    <tr>\n",
       "      <th>9</th>\n",
       "      <td>関西</td>\n",
       "      <td>九州</td>\n",
       "      <td>0.7193674742629778</td>\n",
       "    </tr>\n",
       "    <tr>\n",
       "      <th>10</th>\n",
       "      <td>九州</td>\n",
       "      <td>関西</td>\n",
       "      <td>0.7193674742629778</td>\n",
       "    </tr>\n",
       "    <tr>\n",
       "      <th>11</th>\n",
       "      <td>山</td>\n",
       "      <td>海</td>\n",
       "      <td>0.7102969980315794</td>\n",
       "    </tr>\n",
       "    <tr>\n",
       "      <th>12</th>\n",
       "      <td>西</td>\n",
       "      <td>北</td>\n",
       "      <td>0.818989671306523</td>\n",
       "    </tr>\n",
       "    <tr>\n",
       "      <th>13</th>\n",
       "      <td>色々</td>\n",
       "      <td>いろいろ</td>\n",
       "      <td>0.7147815817895989</td>\n",
       "    </tr>\n",
       "  </tbody>\n",
       "</table>\n",
       "</div>"
      ],
      "text/plain": [
       "     単語A   単語B                 類似度\n",
       "0     関東    関西  0.7552338670281852\n",
       "1      北     西   0.818989671306523\n",
       "2      海     山  0.7102969980315794\n",
       "3     長崎    福岡  0.7406691703356508\n",
       "4     福岡    長崎  0.7406691703356508\n",
       "5     福岡    東京  0.7367493216623424\n",
       "6     東京    福岡  0.7367493216623424\n",
       "7   いろいろ    色々  0.7147815817895989\n",
       "8     関西    関東  0.7552338670281852\n",
       "9     関西    九州  0.7193674742629778\n",
       "10    九州    関西  0.7193674742629778\n",
       "11     山     海  0.7102969980315794\n",
       "12     西     北   0.818989671306523\n",
       "13    色々  いろいろ  0.7147815817895989"
      ]
     },
     "metadata": {},
     "output_type": "display_data"
    }
   ],
   "source": [
    "#AI-TECHGYM-1-13-A-3\n",
    "#自然言語処理\n",
    "\n",
    "#word2vec データ読み込み\n",
    "from gensim.models import KeyedVectors\n",
    "import pandas as pd\n",
    "import urllib.request\n",
    "\n",
    "import os\n",
    "os.chdir(r\"C:\\Users\\tsuchida\\Documents\\techgym_セミナー\\TortoiseGit_resorce\\techgym_ai\\Chapter_1\\Answer_sheet\\AI_Chapter1_saved_files\")\n",
    "\n",
    "title = \"stanby-jobs-200d-word2vector.bin\"\n",
    "if not os.path.exists(title):\n",
    "    print(title + \" DOWNLOAD.\")\n",
    "    url = \"https://github.com/bizreach/ai/releases/download/2018-03-13/stanby-jobs-200d-word2vector.bin\"\n",
    "    urllib.request.urlretrieve(url,\"{0}\".format(title))\n",
    "else :\n",
    "    print(title + \" EXIST.\")\n",
    "\n",
    "# ダウンロード先のパスを指定\n",
    "MODEL_FILENAME = \"./stanby-jobs-200d-word2vector.bin\"\n",
    "w2v = KeyedVectors.load_word2vec_format(MODEL_FILENAME, binary=True)\n",
    "\n",
    "# データの読み込み\n",
    "df = pd.read_csv(\"word.csv\") \n",
    "\n",
    "# 読み込んだデータのサンプルを取得\n",
    "co_df = df\n",
    "display(co_df.head())\n",
    "\n",
    "# 閾値を決める\n",
    "THRESHOLD = 0.7\n",
    "\n",
    "# 結果をlistで保存\n",
    "result = []\n",
    "\n",
    "# 類似度を計算\n",
    "for i in df[\"words\"].values:\n",
    "    for j in co_df[\"words\"].values:\n",
    "        tmp = []\n",
    "        # word2vecにない単語はスルーする\n",
    "        try:\n",
    "            similarity = w2v.similarity(i, j)\n",
    "            # 類似度が0.99以上は同じ単語とする\n",
    "            # 類似度がTHRESHOLD以上のものを抽出\n",
    "            if similarity < 0.99 and similarity > THRESHOLD:\n",
    "                tmp = [i,j,str(similarity)]\n",
    "                result.append(tmp)\n",
    "        except:\n",
    "            pass\n",
    "\n",
    "#リストを表示\n",
    "print(result)\n",
    "\n",
    "#データフレーム\n",
    "df_result = pd.DataFrame(result,columns=[\"単語A\",\"単語B\",\"類似度\"])\n",
    "display(df_result)\n",
    "\n",
    "#CSVファイルに保存\n",
    "df_result.to_csv('./w2v_result.csv',index=False)\n",
    "\n"
   ]
  },
  {
   "cell_type": "code",
   "execution_count": 5,
   "metadata": {
    "scrolled": true
   },
   "outputs": [
    {
     "data": {
      "text/plain": [
       "0.3156337554692984"
      ]
     },
     "execution_count": 5,
     "metadata": {},
     "output_type": "execute_result"
    }
   ],
   "source": [
    "w2v.n_similarity('テクノロジー','金融')"
   ]
  },
  {
   "cell_type": "code",
   "execution_count": 10,
   "metadata": {},
   "outputs": [
    {
     "data": {
      "text/plain": [
       "True"
      ]
     },
     "execution_count": 10,
     "metadata": {},
     "output_type": "execute_result"
    }
   ],
   "source": [
    "'金融' in w2v.index2entity"
   ]
  },
  {
   "cell_type": "code",
   "execution_count": 3,
   "metadata": {
    "scrolled": true
   },
   "outputs": [
    {
     "name": "stdout",
     "output_type": "stream",
     "text": [
      "1\n",
      "<class 'tuple'>\n",
      "1\n",
      "<class 'tuple'>\n",
      "1\n",
      "<class 'tuple'>\n",
      "2\n",
      "<class 'tuple'>\n",
      "2\n",
      "<class 'tuple'>\n",
      "3\n",
      "<class 'tuple'>\n"
     ]
    }
   ],
   "source": [
    "import itertools\n",
    "\n",
    "lis = [1,2,3,4]\n",
    "for pair in itertools.combinations(lis, 2):\n",
    "    print(pair[0])\n",
    "    print(type(pair))"
   ]
  },
  {
   "cell_type": "code",
   "execution_count": null,
   "metadata": {
    "scrolled": false
   },
   "outputs": [],
   "source": [
    "display(set(trans[trans.StockCode=='85123A'].Description))"
   ]
  },
  {
   "cell_type": "code",
   "execution_count": null,
   "metadata": {},
   "outputs": [],
   "source": [
    "display(set(trans[trans.StockCode=='47566'].Description))"
   ]
  },
  {
   "cell_type": "code",
   "execution_count": null,
   "metadata": {},
   "outputs": [],
   "source": [
    "display(trans[trans.StockCode=='85123A'].Description.value_counts())"
   ]
  },
  {
   "cell_type": "code",
   "execution_count": null,
   "metadata": {
    "scrolled": false
   },
   "outputs": [],
   "source": [
    "display(trans.head())"
   ]
  },
  {
   "cell_type": "code",
   "execution_count": null,
   "metadata": {},
   "outputs": [],
   "source": [
    "import numpy as np\n",
    "\n",
    "df_view = pd.DataFrame(pd.date_range('2000-01-02', freq='1D', periods=15), columns=['Date'])\n",
    "\n",
    "bins_dt = pd.date_range('2000-01-01', freq='3D', periods=6)\n",
    "bins_str = bins_dt.astype(str).values\n",
    "\n",
    "labels = ['({}, {}]'.format(bins_str[i-1], bins_str[i]) for i in range(1, len(bins_str))]\n",
    "\n",
    "df['cat'] = pd.cut(df.Date.astype(np.int64)//10**9, bins=bins_dt.astype(np.int64)//10**9, labels=labels)"
   ]
  },
  {
   "cell_type": "code",
   "execution_count": null,
   "metadata": {
    "scrolled": true
   },
   "outputs": [],
   "source": [
    "df_view = pd.concat([trans[trans.StockCode=='85123A'], trans[trans.StockCode=='47566']], axis=0)\n",
    "display(df_view.head(1))\n",
    "\n",
    "import matplotlib.pyplot as plt\n",
    "from pylab import rcParams\n",
    "rcParams['figure.figsize'] = 10, 10\n",
    "df_view = df_view.set_index('InvoiceDate')\n",
    "df_view.plot.bar()"
   ]
  }
 ],
 "metadata": {
  "kernelspec": {
   "display_name": "Python 3",
   "language": "python",
   "name": "python3"
  },
  "language_info": {
   "codemirror_mode": {
    "name": "ipython",
    "version": 3
   },
   "file_extension": ".py",
   "mimetype": "text/x-python",
   "name": "python",
   "nbconvert_exporter": "python",
   "pygments_lexer": "ipython3",
   "version": "3.7.3"
  }
 },
 "nbformat": 4,
 "nbformat_minor": 2
}
