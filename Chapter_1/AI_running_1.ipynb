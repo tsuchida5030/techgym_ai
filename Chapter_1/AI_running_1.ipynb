{
 "cells": [
  {
   "cell_type": "code",
   "execution_count": 36,
   "metadata": {
    "scrolled": false
   },
   "outputs": [
    {
     "name": "stdout",
     "output_type": "stream",
     "text": [
      "すべての購買データ　　　　　 :18536\n",
      "商品85123Aを購入　　　　　　 :1978\n",
      "商品47566を購入　　　　　　　:1380\n",
      "商品85123Aかつ商品47566を購入:279\n"
     ]
    }
   ],
   "source": [
    "#AI-TECHGYM-1-7-A-2\n",
    "#教師なし学習 アソシエーション分析\n",
    "\n",
    "import pandas as pd\n",
    "import urllib.request as req\n",
    "\n",
    "%matplotlib inline\n",
    "\n",
    "#githubからファイルをDownloadできない場合は以下を実行\n",
    "#url = \"http://archive.ics.uci.edu/ml/machine-learning-databases/00352/Online%20Retail.xlsx\"\n",
    "#req.urlretrieve(url, \"Online_Retail.xlsx\")\n",
    "#trans = pd.read_excel('Online_Retail.xlsx', sheet_name='Online Retail')\n",
    "#trans.to_csv(\"./Online_Retail.csv\")\n",
    "\n",
    "#購買データの読み込み\n",
    "trans = pd.read_csv('Online_Retail.csv')\n",
    "\n",
    "#####前処理#####\n",
    "#キャンセルデータと不明なデータを除くための処理をする\n",
    "\n",
    "# InoivceNoの先頭1文字をcancel_flgとして追加\n",
    "trans['cancel_flg'] = trans.InvoiceNo.map(lambda x:str(x)[0])\n",
    "\n",
    "# cancel_flgでグルーピングして集計\n",
    "trans.groupby('cancel_flg').size()\n",
    "\n",
    "#有効なデータに上書きする\n",
    "trans = trans[(trans.cancel_flg == '5') & (trans.CustomerID.notnull())]\n",
    "################\n",
    "\n",
    "#すべてのInvoiceNoをtrans_allとして抽出\n",
    "trans_ALL = set(trans.InvoiceNo) \n",
    "print(\"すべての購買データ　　　　　 :\",end='')\n",
    "print(len(trans_ALL))\n",
    "\n",
    "#商品85123Aを購入\n",
    "trans_X = set(trans[trans['StockCode']=='85123A'].InvoiceNo)\n",
    "print(\"商品85123Aを購入　　　　　　 :\",end='')\n",
    "print(len(trans_X))\n",
    "\n",
    "#商品47566を購入したデータ\n",
    "trans_Y = set(trans[trans['StockCode']=='47566'].InvoiceNo)\n",
    "print(\"商品47566を購入　　　　　　　:\",end='')\n",
    "print(len(trans_Y))\n",
    "\n",
    "#商品85123Aかつ商品47566を購入したデータをtrans_XYとする\n",
    "trans_XY = trans_X & trans_Y\n",
    "print(\"商品85123Aかつ商品47566を購入:\",end='')\n",
    "print(len(trans_XY))\n"
   ]
  },
  {
   "cell_type": "code",
   "execution_count": 19,
   "metadata": {},
   "outputs": [
    {
     "data": {
      "text/html": [
       "<div>\n",
       "<style scoped>\n",
       "    .dataframe tbody tr th:only-of-type {\n",
       "        vertical-align: middle;\n",
       "    }\n",
       "\n",
       "    .dataframe tbody tr th {\n",
       "        vertical-align: top;\n",
       "    }\n",
       "\n",
       "    .dataframe thead th {\n",
       "        text-align: right;\n",
       "    }\n",
       "</style>\n",
       "<table border=\"1\" class=\"dataframe\">\n",
       "  <thead>\n",
       "    <tr style=\"text-align: right;\">\n",
       "      <th></th>\n",
       "      <th>Unnamed: 0</th>\n",
       "      <th>InvoiceNo</th>\n",
       "      <th>StockCode</th>\n",
       "      <th>Description</th>\n",
       "      <th>Quantity</th>\n",
       "      <th>InvoiceDate</th>\n",
       "      <th>UnitPrice</th>\n",
       "      <th>CustomerID</th>\n",
       "      <th>Country</th>\n",
       "      <th>cancel_flg</th>\n",
       "    </tr>\n",
       "  </thead>\n",
       "  <tbody>\n",
       "    <tr>\n",
       "      <th>0</th>\n",
       "      <td>0</td>\n",
       "      <td>536365</td>\n",
       "      <td>85123A</td>\n",
       "      <td>WHITE HANGING HEART T-LIGHT HOLDER</td>\n",
       "      <td>6</td>\n",
       "      <td>2010-12-01 08:26:00</td>\n",
       "      <td>2.55</td>\n",
       "      <td>17850.0</td>\n",
       "      <td>United Kingdom</td>\n",
       "      <td>5</td>\n",
       "    </tr>\n",
       "    <tr>\n",
       "      <th>1</th>\n",
       "      <td>1</td>\n",
       "      <td>536365</td>\n",
       "      <td>71053</td>\n",
       "      <td>WHITE METAL LANTERN</td>\n",
       "      <td>6</td>\n",
       "      <td>2010-12-01 08:26:00</td>\n",
       "      <td>3.39</td>\n",
       "      <td>17850.0</td>\n",
       "      <td>United Kingdom</td>\n",
       "      <td>5</td>\n",
       "    </tr>\n",
       "    <tr>\n",
       "      <th>2</th>\n",
       "      <td>2</td>\n",
       "      <td>536365</td>\n",
       "      <td>84406B</td>\n",
       "      <td>CREAM CUPID HEARTS COAT HANGER</td>\n",
       "      <td>8</td>\n",
       "      <td>2010-12-01 08:26:00</td>\n",
       "      <td>2.75</td>\n",
       "      <td>17850.0</td>\n",
       "      <td>United Kingdom</td>\n",
       "      <td>5</td>\n",
       "    </tr>\n",
       "    <tr>\n",
       "      <th>3</th>\n",
       "      <td>3</td>\n",
       "      <td>536365</td>\n",
       "      <td>84029G</td>\n",
       "      <td>KNITTED UNION FLAG HOT WATER BOTTLE</td>\n",
       "      <td>6</td>\n",
       "      <td>2010-12-01 08:26:00</td>\n",
       "      <td>3.39</td>\n",
       "      <td>17850.0</td>\n",
       "      <td>United Kingdom</td>\n",
       "      <td>5</td>\n",
       "    </tr>\n",
       "    <tr>\n",
       "      <th>4</th>\n",
       "      <td>4</td>\n",
       "      <td>536365</td>\n",
       "      <td>84029E</td>\n",
       "      <td>RED WOOLLY HOTTIE WHITE HEART.</td>\n",
       "      <td>6</td>\n",
       "      <td>2010-12-01 08:26:00</td>\n",
       "      <td>3.39</td>\n",
       "      <td>17850.0</td>\n",
       "      <td>United Kingdom</td>\n",
       "      <td>5</td>\n",
       "    </tr>\n",
       "  </tbody>\n",
       "</table>\n",
       "</div>"
      ],
      "text/plain": [
       "   Unnamed: 0 InvoiceNo StockCode                          Description  \\\n",
       "0           0    536365    85123A   WHITE HANGING HEART T-LIGHT HOLDER   \n",
       "1           1    536365     71053                  WHITE METAL LANTERN   \n",
       "2           2    536365    84406B       CREAM CUPID HEARTS COAT HANGER   \n",
       "3           3    536365    84029G  KNITTED UNION FLAG HOT WATER BOTTLE   \n",
       "4           4    536365    84029E       RED WOOLLY HOTTIE WHITE HEART.   \n",
       "\n",
       "   Quantity          InvoiceDate  UnitPrice  CustomerID         Country  \\\n",
       "0         6  2010-12-01 08:26:00       2.55     17850.0  United Kingdom   \n",
       "1         6  2010-12-01 08:26:00       3.39     17850.0  United Kingdom   \n",
       "2         8  2010-12-01 08:26:00       2.75     17850.0  United Kingdom   \n",
       "3         6  2010-12-01 08:26:00       3.39     17850.0  United Kingdom   \n",
       "4         6  2010-12-01 08:26:00       3.39     17850.0  United Kingdom   \n",
       "\n",
       "  cancel_flg  \n",
       "0          5  \n",
       "1          5  \n",
       "2          5  \n",
       "3          5  \n",
       "4          5  "
      ]
     },
     "execution_count": 19,
     "metadata": {},
     "output_type": "execute_result"
    }
   ],
   "source": [
    "trans.head()"
   ]
  },
  {
   "cell_type": "code",
   "execution_count": 35,
   "metadata": {
    "scrolled": false
   },
   "outputs": [
    {
     "name": "stdout",
     "output_type": "stream",
     "text": [
      "すべての購買データ : 18536\n",
      "商品 85123A を購入したバスケット数 : 1978\n",
      "商品 47566 を購入したバスケット数 : 1380\n",
      "商品 85123A かつ商品 47566 を購入したバスケット数 : 279\n"
     ]
    }
   ],
   "source": [
    "print('すべての購買データ : {}'.format(len(set(trans['InvoiceNo']))))\n",
    "print('商品 85123A を購入したバスケット数 : {}'.format(len(set(trans[trans['StockCode'] == '85123A']['InvoiceNo']))))\n",
    "print('商品 47566 を購入したバスケット数 : {}'.format(len(set(trans[trans['StockCode'] == '47566']['InvoiceNo']))))\n",
    "print('商品 85123A かつ商品 47566 を購入したバスケット数 : {}'.format(len(set(trans[trans['StockCode'] == '85123A']['InvoiceNo']) & set(trans[trans['StockCode'] == '47566']['InvoiceNo']))))"
   ]
  },
  {
   "cell_type": "code",
   "execution_count": 26,
   "metadata": {},
   "outputs": [
    {
     "data": {
      "text/plain": [
       "pandas.core.series.Series"
      ]
     },
     "execution_count": 26,
     "metadata": {},
     "output_type": "execute_result"
    }
   ],
   "source": [
    "type(trans['StockCode'])"
   ]
  }
 ],
 "metadata": {
  "kernelspec": {
   "display_name": "Python 3",
   "language": "python",
   "name": "python3"
  },
  "language_info": {
   "codemirror_mode": {
    "name": "ipython",
    "version": 3
   },
   "file_extension": ".py",
   "mimetype": "text/x-python",
   "name": "python",
   "nbconvert_exporter": "python",
   "pygments_lexer": "ipython3",
   "version": "3.7.3"
  }
 },
 "nbformat": 4,
 "nbformat_minor": 2
}
