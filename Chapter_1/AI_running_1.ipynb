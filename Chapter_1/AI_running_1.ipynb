{
 "cells": [
  {
   "cell_type": "code",
   "execution_count": 1,
   "metadata": {
    "scrolled": true
   },
   "outputs": [
    {
     "name": "stdout",
     "output_type": "stream",
     "text": [
      "商品85123Aを購入した人の中で、商品47566を購入した人の割合を示す信頼度(C)　　　　　 :0.141\n",
      "商品85123Aと商品47566が同時に購入されたかどうかを示す支持度(S_XY)　　　　　 :0.015\n",
      "商品85123Aを購入するなら商品47566も購入するというルールのリフト値　　　　　 :1.895\n"
     ]
    }
   ],
   "source": [
    "#AI-TECHGYM-1-7-A-2\n",
    "#教師なし学習 アソシエーション分析\n",
    "\n",
    "import pandas as pd\n",
    "import urllib.request as req\n",
    "\n",
    "%matplotlib inline\n",
    "\n",
    "#実行フォルダ\n",
    "import os\n",
    "os.chdir(r\"C:\\Users\\tsuchida\\Documents\\techgym_セミナー\\TortoiseGit_resorce\\techgym_ai\\Chapter_1\\Answer_sheet\\AI_Chapter1_saved_files\")\n",
    "\n",
    "#githubからファイルをDownloadできない場合は以下を実行\n",
    "#url = \"http://archive.ics.uci.edu/ml/machine-learning-databases/00352/Online%20Retail.xlsx\"\n",
    "#req.urlretrieve(url, \"Online_Retail.xlsx\")\n",
    "#trans = pd.read_excel('Online_Retail.xlsx', sheet_name='Online Retail')\n",
    "#trans.to_csv(\"./Online_Retail.csv\")\n",
    "\n",
    "#購買データの読み込み\n",
    "trans = pd.read_csv('Online_Retail.csv')\n",
    "\n",
    "#####前処理#####\n",
    "#キャンセルデータと不明なデータを除くための処理をする\n",
    "\n",
    "# InoivceNoの先頭1文字をcancel_flgとして追加\n",
    "trans['cancel_flg'] = trans.InvoiceNo.map(lambda x:str(x)[0])\n",
    "\n",
    "# cancel_flgでグルーピングして集計\n",
    "trans.groupby('cancel_flg').size()\n",
    "\n",
    "#有効なデータに上書きする\n",
    "trans = trans[(trans.cancel_flg == '5') & (trans.CustomerID.notnull())]\n",
    "################\n",
    "\n",
    "trans_ALL = set(trans.InvoiceNo) \n",
    "trans_X = set(trans[trans['StockCode']=='85123A'].InvoiceNo)\n",
    "trans_Y = set(trans[trans['StockCode']=='47566'].InvoiceNo)\n",
    "trans_XY = trans_X & trans_Y\n",
    "\n",
    "#商品85123Aを購入した人の中で、商品47566を購入した人の割合を示す信頼度(C)を計算する。\n",
    "print(\"商品85123Aを購入した人の中で、商品47566を購入した人の割合を示す信頼度(C)　　　　　 :\",end='')\n",
    "C = len(trans_XY)/len(trans_X)\n",
    "print('{:.3f}'.format(C))\n",
    "\n",
    "#商品85123Aと商品47566が同時に購入されたかどうかを示す支持度(S_XY)を計算する。\n",
    "print(\"商品85123Aと商品47566が同時に購入されたかどうかを示す支持度(S_XY)　　　　　 :\",end='')\n",
    "S_XY = len(trans_XY)/len(trans_ALL)\n",
    "print('{:.3f}'.format(S_XY))\n",
    "\n",
    "#商品85123Aを購入するなら商品47566も購入するというルールのリフト値を計算する。\n",
    "print(\"商品85123Aを購入するなら商品47566も購入するというルールのリフト値　　　　　 :\",end='')\n",
    "print('{:.3f}'.format(C*len(trans_ALL)/len(trans_Y)))"
   ]
  },
  {
   "cell_type": "code",
   "execution_count": 2,
   "metadata": {
    "scrolled": false
   },
   "outputs": [
    {
     "data": {
      "text/plain": [
       "{'CREAM HANGING HEART T-LIGHT HOLDER', 'WHITE HANGING HEART T-LIGHT HOLDER'}"
      ]
     },
     "metadata": {},
     "output_type": "display_data"
    }
   ],
   "source": [
    "display(set(trans[trans.StockCode=='85123A'].Description))"
   ]
  },
  {
   "cell_type": "code",
   "execution_count": 3,
   "metadata": {},
   "outputs": [
    {
     "data": {
      "text/plain": [
       "{'PARTY BUNTING'}"
      ]
     },
     "metadata": {},
     "output_type": "display_data"
    }
   ],
   "source": [
    "display(set(trans[trans.StockCode=='47566'].Description))"
   ]
  },
  {
   "cell_type": "code",
   "execution_count": 4,
   "metadata": {},
   "outputs": [
    {
     "data": {
      "text/plain": [
       "WHITE HANGING HEART T-LIGHT HOLDER    2028\n",
       "CREAM HANGING HEART T-LIGHT HOLDER       7\n",
       "Name: Description, dtype: int64"
      ]
     },
     "metadata": {},
     "output_type": "display_data"
    }
   ],
   "source": [
    "display(trans[trans.StockCode=='85123A'].Description.value_counts())"
   ]
  },
  {
   "cell_type": "code",
   "execution_count": 5,
   "metadata": {
    "scrolled": false
   },
   "outputs": [
    {
     "data": {
      "text/html": [
       "<div>\n",
       "<style scoped>\n",
       "    .dataframe tbody tr th:only-of-type {\n",
       "        vertical-align: middle;\n",
       "    }\n",
       "\n",
       "    .dataframe tbody tr th {\n",
       "        vertical-align: top;\n",
       "    }\n",
       "\n",
       "    .dataframe thead th {\n",
       "        text-align: right;\n",
       "    }\n",
       "</style>\n",
       "<table border=\"1\" class=\"dataframe\">\n",
       "  <thead>\n",
       "    <tr style=\"text-align: right;\">\n",
       "      <th></th>\n",
       "      <th>Unnamed: 0</th>\n",
       "      <th>InvoiceNo</th>\n",
       "      <th>StockCode</th>\n",
       "      <th>Description</th>\n",
       "      <th>Quantity</th>\n",
       "      <th>InvoiceDate</th>\n",
       "      <th>UnitPrice</th>\n",
       "      <th>CustomerID</th>\n",
       "      <th>Country</th>\n",
       "      <th>cancel_flg</th>\n",
       "    </tr>\n",
       "  </thead>\n",
       "  <tbody>\n",
       "    <tr>\n",
       "      <th>0</th>\n",
       "      <td>0</td>\n",
       "      <td>536365</td>\n",
       "      <td>85123A</td>\n",
       "      <td>WHITE HANGING HEART T-LIGHT HOLDER</td>\n",
       "      <td>6</td>\n",
       "      <td>2010-12-01 08:26:00</td>\n",
       "      <td>2.55</td>\n",
       "      <td>17850.0</td>\n",
       "      <td>United Kingdom</td>\n",
       "      <td>5</td>\n",
       "    </tr>\n",
       "  </tbody>\n",
       "</table>\n",
       "</div>"
      ],
      "text/plain": [
       "   Unnamed: 0 InvoiceNo StockCode                         Description  \\\n",
       "0           0    536365    85123A  WHITE HANGING HEART T-LIGHT HOLDER   \n",
       "\n",
       "   Quantity          InvoiceDate  UnitPrice  CustomerID         Country  \\\n",
       "0         6  2010-12-01 08:26:00       2.55     17850.0  United Kingdom   \n",
       "\n",
       "  cancel_flg  \n",
       "0          5  "
      ]
     },
     "metadata": {},
     "output_type": "display_data"
    },
    {
     "data": {
      "text/plain": [
       "<matplotlib.axes._subplots.AxesSubplot at 0x1c9bad81908>"
      ]
     },
     "execution_count": 5,
     "metadata": {},
     "output_type": "execute_result"
    },
    {
     "data": {
      "image/png": "[encoded data removed]",
      "text/plain": [
       "<Figure size 720x720 with 1 Axes>"
      ]
     },
     "metadata": {
      "needs_background": "light"
     },
     "output_type": "display_data"
    }
   ],
   "source": [
    "df_view = pd.concat([trans[trans.StockCode=='85123A'], trans[trans.StockCode=='47566']], axis=0)\n",
    "display(df_view.head(1))\n",
    "\n",
    "import matplotlib.pyplot as plt\n",
    "from pylab import rcParams\n",
    "rcParams['figure.figsize'] = 10, 10\n",
    "df_view = df_view.set_index('InvoiceDate')\n",
    "df_view.plot.bar()"
   ]
  },
  {
   "cell_type": "code",
   "execution_count": 4,
   "metadata": {},
   "outputs": [
    {
     "data": {
      "text/html": [
       "<div>\n",
       "<style scoped>\n",
       "    .dataframe tbody tr th:only-of-type {\n",
       "        vertical-align: middle;\n",
       "    }\n",
       "\n",
       "    .dataframe tbody tr th {\n",
       "        vertical-align: top;\n",
       "    }\n",
       "\n",
       "    .dataframe thead th {\n",
       "        text-align: right;\n",
       "    }\n",
       "</style>\n",
       "<table border=\"1\" class=\"dataframe\">\n",
       "  <thead>\n",
       "    <tr style=\"text-align: right;\">\n",
       "      <th></th>\n",
       "      <th>length</th>\n",
       "      <th>width</th>\n",
       "    </tr>\n",
       "  </thead>\n",
       "  <tbody>\n",
       "    <tr>\n",
       "      <th>pig</th>\n",
       "      <td>1.5</td>\n",
       "      <td>0.70</td>\n",
       "    </tr>\n",
       "    <tr>\n",
       "      <th>rabbit</th>\n",
       "      <td>0.5</td>\n",
       "      <td>0.20</td>\n",
       "    </tr>\n",
       "    <tr>\n",
       "      <th>duck</th>\n",
       "      <td>1.2</td>\n",
       "      <td>0.15</td>\n",
       "    </tr>\n",
       "    <tr>\n",
       "      <th>chicken</th>\n",
       "      <td>0.9</td>\n",
       "      <td>0.20</td>\n",
       "    </tr>\n",
       "    <tr>\n",
       "      <th>horse</th>\n",
       "      <td>3.0</td>\n",
       "      <td>1.10</td>\n",
       "    </tr>\n",
       "  </tbody>\n",
       "</table>\n",
       "</div>"
      ],
      "text/plain": [
       "         length  width\n",
       "pig         1.5   0.70\n",
       "rabbit      0.5   0.20\n",
       "duck        1.2   0.15\n",
       "chicken     0.9   0.20\n",
       "horse       3.0   1.10"
      ]
     },
     "execution_count": 4,
     "metadata": {},
     "output_type": "execute_result"
    }
   ],
   "source": [
    "df"
   ]
  },
  {
   "cell_type": "code",
   "execution_count": 22,
   "metadata": {},
   "outputs": [
    {
     "data": {
      "image/png": "[encoded data removed]",
      "text/plain": [
       "<Figure size 720x720 with 2 Axes>"
      ]
     },
     "metadata": {
      "needs_background": "light"
     },
     "output_type": "display_data"
    }
   ],
   "source": [
    "df = pd.DataFrame({\n",
    "    'length': [1.5, 0.5, 1.2, 0.9, 3],\n",
    "    'width': [0.7, 0.2, 0.15, 0.2, 1.1]\n",
    "    }, index=['pig', 'rabbit', 'duck', 'chicken', 'horse'])\n",
    "hist = df.hist(bins=3)"
   ]
  },
  {
   "cell_type": "code",
   "execution_count": 23,
   "metadata": {},
   "outputs": [
    {
     "data": {
      "text/html": [
       "<div>\n",
       "<style scoped>\n",
       "    .dataframe tbody tr th:only-of-type {\n",
       "        vertical-align: middle;\n",
       "    }\n",
       "\n",
       "    .dataframe tbody tr th {\n",
       "        vertical-align: top;\n",
       "    }\n",
       "\n",
       "    .dataframe thead th {\n",
       "        text-align: right;\n",
       "    }\n",
       "</style>\n",
       "<table border=\"1\" class=\"dataframe\">\n",
       "  <thead>\n",
       "    <tr style=\"text-align: right;\">\n",
       "      <th></th>\n",
       "      <th>length</th>\n",
       "      <th>width</th>\n",
       "    </tr>\n",
       "  </thead>\n",
       "  <tbody>\n",
       "    <tr>\n",
       "      <th>pig</th>\n",
       "      <td>1.5</td>\n",
       "      <td>0.70</td>\n",
       "    </tr>\n",
       "    <tr>\n",
       "      <th>rabbit</th>\n",
       "      <td>0.5</td>\n",
       "      <td>0.20</td>\n",
       "    </tr>\n",
       "    <tr>\n",
       "      <th>duck</th>\n",
       "      <td>1.2</td>\n",
       "      <td>0.15</td>\n",
       "    </tr>\n",
       "    <tr>\n",
       "      <th>chicken</th>\n",
       "      <td>0.9</td>\n",
       "      <td>0.20</td>\n",
       "    </tr>\n",
       "    <tr>\n",
       "      <th>horse</th>\n",
       "      <td>3.0</td>\n",
       "      <td>1.10</td>\n",
       "    </tr>\n",
       "  </tbody>\n",
       "</table>\n",
       "</div>"
      ],
      "text/plain": [
       "         length  width\n",
       "pig         1.5   0.70\n",
       "rabbit      0.5   0.20\n",
       "duck        1.2   0.15\n",
       "chicken     0.9   0.20\n",
       "horse       3.0   1.10"
      ]
     },
     "execution_count": 23,
     "metadata": {},
     "output_type": "execute_result"
    }
   ],
   "source": [
    "df.head()"
   ]
  },
  {
   "cell_type": "code",
   "execution_count": null,
   "metadata": {
    "scrolled": true
   },
   "outputs": [],
   "source": [
    "#AI-TECHGYM-1-11-Q-1\n",
    "#自然言語処理\n",
    "\n",
    "#実行場所\n",
    "import os\n",
    "os.chdir(r\"C:\\Users\\tsuchida\\Documents\\techgym_セミナー\\TortoiseGit_resorce\\techgym_ai\\Chapter_1\\Answer_sheet\\AI_Chapter1_saved_files\")\n",
    "\n",
    "#インポート\n",
    "import urllib.request\n",
    "import zipfile\n",
    "\n",
    "# ファイル整形\n",
    "import re\n",
    "\n",
    "#ファイルダウンロード\n",
    "url = 'https://www.aozora.gr.jp/cards/001847/files/57347_ruby_57225.zip'\n",
    "zip = '57347_ruby_57225.zip'\n",
    "urllib.request.urlretrieve(url, zip)\n",
    "\n",
    "# ダウンロードしたzipの解凍\n",
    "with zipfile.ZipFile(zip, 'r') as myzip:\n",
    "  myzip.extractall()\n",
    "  # 解凍後のファイルからデータ読み込み\n",
    "  for myfile in myzip.infolist():\n",
    "    # 解凍後ファイル名取得\n",
    "    filename = myfile.filename\n",
    "    # ファイルオープン時にencodingを指定してsjisの変換をする\n",
    "    with open(filename, encoding='sjis') as file:\n",
    "      text = file.read()\n",
    "\n",
    "\n",
    "re.findall('\\n\\n', text)"
   ]
  },
  {
   "cell_type": "code",
   "execution_count": null,
   "metadata": {
    "scrolled": true
   },
   "outputs": [],
   "source": [
    "#1-10-(2)\n",
    "\n",
    "import numpy as np\n",
    "print('リスト linesの次元数、要素数 : 1, {}'.format(len(lines)))\n",
    "print('リスト resultsの次元数、要素数 : 2, {}'.format(len(results)))\n",
    "\n",
    "print('lines、resultsの外側の要素数は、元の文章の行数')\n",
    "\n",
    "print('resultsの　行数 : 内側のリストの要素数')\n",
    "for i, result in enumerate(results):\n",
    "    print('{} : {}'.format(i+1, len(result)))"
   ]
  },
  {
   "cell_type": "code",
   "execution_count": null,
   "metadata": {
    "scrolled": true
   },
   "outputs": [],
   "source": [
    "print(np.array(results))"
   ]
  },
  {
   "cell_type": "code",
   "execution_count": null,
   "metadata": {},
   "outputs": [],
   "source": [
    "df_trans_sch = trans[trans.InvoiceNo.isin(trans_XY)]\n",
    "df_trans_X = df_trans_sch[df_trans_sch.StockCode == '85123A']\n",
    "df_trans_Y = df_trans_sch[df_trans_sch.StockCode == '47566']\n",
    "df_trans_XY = pd.concat([df_trans_X, df_trans_Y], axis=0)\n",
    "print(len(df_trans_XY))\n",
    "df_trans_XY.sort_values('InvoiceDate')"
   ]
  }
 ],
 "metadata": {
  "kernelspec": {
   "display_name": "Python 3",
   "language": "python",
   "name": "python3"
  },
  "language_info": {
   "codemirror_mode": {
    "name": "ipython",
    "version": 3
   },
   "file_extension": ".py",
   "mimetype": "text/x-python",
   "name": "python",
   "nbconvert_exporter": "python",
   "pygments_lexer": "ipython3",
   "version": "3.7.3"
  }
 },
 "nbformat": 4,
 "nbformat_minor": 2
}
