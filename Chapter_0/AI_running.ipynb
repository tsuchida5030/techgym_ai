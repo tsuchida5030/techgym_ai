{
 "cells": [
  {
   "cell_type": "code",
   "execution_count": 15,
   "metadata": {
    "scrolled": false
   },
   "outputs": [
    {
     "data": {
      "text/plain": [
       "SalePrice       1.000000\n",
       "OverallQual     0.797881\n",
       "GrLivArea       0.705154\n",
       "GarageCars      0.647034\n",
       "GarageArea      0.619330\n",
       "TotalBsmtSF     0.615612\n",
       "1stFlrSF        0.607969\n",
       "FullBath        0.566627\n",
       "TotRmsAbvGrd    0.547067\n",
       "YearBuilt       0.525394\n",
       "YearRemodAdd    0.521253\n",
       "GarageYrBlt     0.504753\n",
       "MasVnrArea      0.488658\n",
       "Fireplaces      0.461873\n",
       "BsmtFinSF1      0.390301\n",
       "Name: SalePrice, dtype: float64"
      ]
     },
     "metadata": {},
     "output_type": "display_data"
    },
    {
     "name": "stdout",
     "output_type": "stream",
     "text": [
      "回帰係数：20858.639571272393\n",
      "切片: -1057905.456865702\n"
     ]
    },
    {
     "data": {
      "text/plain": [
       "array([103174.10774552, 153010.39133661, 175566.69930938, ...,\n",
       "       175336.81620823,  97743.95084958, 256613.77303492])"
      ]
     },
     "metadata": {},
     "output_type": "display_data"
    },
    {
     "data": {
      "image/png": "[encoded data removed]",
      "text/plain": [
       "<Figure size 432x288 with 1 Axes>"
      ]
     },
     "metadata": {
      "needs_background": "light"
     },
     "output_type": "display_data"
    }
   ],
   "source": [
    "#AI-TECHGYM-N-22\n",
    "\n",
    "# ライブラリのインポート\n",
    "import pandas as pd\n",
    "import seaborn as sns\n",
    "\n",
    "import matplotlib.pyplot as plt\n",
    "%matplotlib inline\n",
    "\n",
    "from sklearn.linear_model import LinearRegression\n",
    "\n",
    "#データの読み込み\n",
    "#http://www.kaggle.com/c/house-prices-advanced-regression-techniques/download/train.csv\n",
    "house_train = pd.read_csv(\"./train.csv\")\n",
    "#display(house_train)\n",
    "\n",
    "#http://www.kaggle.com/c/house-prices-advanced-regression-techniques/download/test.csv\n",
    "house_test = pd.read_csv(\"./test.csv\")\n",
    "#display(house_test)\n",
    "\n",
    "#数値型のみ抜き出す、NaNがあるところは削除する\n",
    "house_train_num = house_train.select_dtypes(include='number').dropna()\n",
    "\n",
    "#相関係数を表示\n",
    "house_corr = house_train_num.corr()\n",
    "\n",
    "#必要に応じて表示して確認\n",
    "#display(house_corr)\n",
    "\n",
    "#相関係数の上位14個を表示\n",
    "display(house_corr.sort_values('SalePrice', ascending=False)['SalePrice'].head(15))\n",
    "\n",
    "#回帰分析用のデータフレーム\n",
    "df_col = ['SalePrice','OverallQual' , 'GrLivArea' , 'GarageCars' , 'GarageArea',\n",
    "          'TotalBsmtSF' , '1stFlrSF' , 'FullBath' , 'TotRmsAbvGrd' , 'YearBuilt',\n",
    "          'YearRemodAdd' , 'GarageYrBlt','MasVnrArea','Fireplaces','BsmtFinSF1']\n",
    "\n",
    "house_train_num_df = house_train_num[df_col]\n",
    "\n",
    "#データの準備\n",
    "X = house_train_num_df.drop('SalePrice' , axis=1)\n",
    "y = house_train_num_df['SalePrice'].values\n",
    "\n",
    "# 線形回帰\n",
    "slr = LinearRegression()\n",
    "\n",
    "# fit関数でモデル作成\n",
    "slr.fit(X,y)\n",
    "\n",
    "# 回帰係数\n",
    "print('回帰係数：{0}'.format(slr.coef_[0]))\n",
    "\n",
    "# 切片(直線とy軸との交点)を出力\n",
    "print('切片: {0}'.format(slr.intercept_))\n",
    "\n",
    "#統計的データ分析と可視化\n",
    "# sns.pairplot(house_train_num_df)\n",
    "plt.grid(True)\n",
    "\n",
    "df_col_test = ['OverallQual' , 'GrLivArea' , 'GarageCars' , 'GarageArea',\n",
    "               'TotalBsmtSF' , '1stFlrSF' , 'FullBath' , 'TotRmsAbvGrd' , 'YearBuilt',\n",
    "               'YearRemodAdd' , 'GarageYrBlt','MasVnrArea','Fireplaces','BsmtFinSF1']\n",
    "\n",
    "#テストデータ、NaNがあるところは前の値で埋める\n",
    "X_test = house_test[df_col_test].fillna(method = 'ffill')\n",
    "\n",
    "# 学習済みのモデルから予測した結果をセット\n",
    "y_test_pred = slr.predict(X_test)\n",
    "\n",
    "#予測した結果を出力\n",
    "display(y_test_pred)\n",
    "\n",
    "# df_testに SalePrice カラムを追加し、学習済みのモデルから予測した結果をセット\n",
    "house_test['SalePrice'] = y_test_pred\n",
    "\n",
    "#提出するデータ形式に出力\n",
    "house_test[[\"Id\",\"SalePrice\"]].to_csv(\"submission.csv\",index=False)\n"
   ]
  }
 ],
 "metadata": {
  "kernelspec": {
   "display_name": "Python 3",
   "language": "python",
   "name": "python3"
  },
  "language_info": {
   "codemirror_mode": {
    "name": "ipython",
    "version": 3
   },
   "file_extension": ".py",
   "mimetype": "text/x-python",
   "name": "python",
   "nbconvert_exporter": "python",
   "pygments_lexer": "ipython3",
   "version": "3.7.3"
  }
 },
 "nbformat": 4,
 "nbformat_minor": 2
}
