{
 "cells": [
  {
   "cell_type": "code",
   "execution_count": 1,
   "metadata": {
    "scrolled": false
   },
   "outputs": [
    {
     "name": "stdout",
     "output_type": "stream",
     "text": [
      "\n",
      "　彼は老いていた。小さな船でメキシコ湾流に漕ぎ出し、独りで漁をしていた。一匹も釣れない日が、既に八\n",
      "…\n",
      "1952), ウェブサイト『Googleブックス』所収（2015.08.26アクセス）。\n",
      "以上\n",
      "\n",
      "\n",
      "\n",
      "彼\t名詞,代名詞,一般,*,*,*,彼,カレ,カレ\n",
      "は\t助詞,係助詞,*,*,*,*,は,ハ,ワ\n",
      "老い\t動詞,自立,*,*,一段,連用形,老いる,オイ,オイ\n",
      "て\t助詞,接続助詞,*,*,*,*,て,テ,テ\n",
      "い\t動詞,非自立,*,*,一段,連用形,いる,イ,イ\n"
     ]
    }
   ],
   "source": [
    "#AI-TECHGYM-1-11-A-2\n",
    "#自然言語処理\n",
    "\n",
    "#インポート\n",
    "import urllib.request\n",
    "import zipfile\n",
    "\n",
    "#ファイル整形\n",
    "import re\n",
    "\n",
    "#Janome\n",
    "from janome.tokenizer import Tokenizer\n",
    "\n",
    "#実行場所\n",
    "import os\n",
    "os.chdir(r\"C:\\Users\\tsuchida\\Documents\\techgym_セミナー\\TortoiseGit_resorce\\techgym_ai\\Chapter_1\\Answer_sheet\\AI_Chapter1_saved_files\")\n",
    "\n",
    "#ファイルダウンロード\n",
    "url = 'https://www.aozora.gr.jp/cards/001847/files/57347_ruby_57225.zip'\n",
    "zip = '57347_ruby_57225.zip'\n",
    "urllib.request.urlretrieve(url, zip)\n",
    "\n",
    "# ダウンロードしたzipの解凍\n",
    "with zipfile.ZipFile(zip, 'r') as myzip:\n",
    "    myzip.extractall()\n",
    "    # 解凍後のファイルからデータ読み込み\n",
    "    for myfile in myzip.infolist():\n",
    "        # 解凍後ファイル名取得\n",
    "        filename = myfile.filename\n",
    "        # ファイルオープン時にencodingを指定してsjisの変換をする\n",
    "        with open(filename, encoding='sjis') as file:\n",
    "            text = file.read()\n",
    "\n",
    "text = re.split('\\-{5,}',text)[2]   # ヘッダ部分の除去\n",
    "text = re.split('底本：',text)[0]   # フッタ部分の除去\n",
    "text = text.replace('|', '')        # | の除去\n",
    "text = re.sub('《.+?》', '', text)  # ルビの削除\n",
    "text = re.sub('［＃.+?］', '',text) # 入力注の削除\n",
    "text = re.sub('\\n\\n', '\\n', text)   # 空行の削除\n",
    "text = re.sub('\\r', '', text)\n",
    "\n",
    "outnum = 50\n",
    "# 頭の100文字の表示 \n",
    "print(text[:outnum])\n",
    "print(\"…\")\n",
    "# 後ろの100文字の表示 \n",
    "print(text[-outnum:])\n",
    "\n",
    "#インスタンスの生成 \n",
    "t = Tokenizer()\n",
    "\n",
    "#対象の品詞\n",
    "obj_list = ['名詞', '動詞','形容詞']\n",
    "\n",
    "tokens = t.tokenize(text)\n",
    "for token in tokens[:5]:\n",
    "    print(token)"
   ]
  },
  {
   "cell_type": "code",
   "execution_count": null,
   "metadata": {},
   "outputs": [],
   "source": [
    "print(iris.target_names)"
   ]
  }
 ],
 "metadata": {
  "kernelspec": {
   "display_name": "Python 3",
   "language": "python",
   "name": "python3"
  },
  "language_info": {
   "codemirror_mode": {
    "name": "ipython",
    "version": 3
   },
   "file_extension": ".py",
   "mimetype": "text/x-python",
   "name": "python",
   "nbconvert_exporter": "python",
   "pygments_lexer": "ipython3",
   "version": "3.7.3"
  }
 },
 "nbformat": 4,
 "nbformat_minor": 2
}
