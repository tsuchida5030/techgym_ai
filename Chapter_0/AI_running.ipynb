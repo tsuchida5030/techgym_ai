{
 "cells": [
  {
   "cell_type": "code",
   "execution_count": 81,
   "metadata": {
    "scrolled": false
   },
   "outputs": [
    {
     "data": {
      "text/plain": [
       "0     (1, 20]\n",
       "1    (20, 40]\n",
       "2    (20, 40]\n",
       "3    (20, 40]\n",
       "4     (1, 20]\n",
       "5     (1, 20]\n",
       "6    (20, 40]\n",
       "7     (1, 20]\n",
       "8     (1, 20]\n",
       "9     (1, 20]\n",
       "Name: draw, dtype: category\n",
       "Categories (2, interval[int64]): [(1, 20] < (20, 40]]"
      ]
     },
     "metadata": {},
     "output_type": "display_data"
    },
    {
     "data": {
      "text/plain": [
       "(1, 20]     6\n",
       "(20, 40]    4\n",
       "Name: draw, dtype: int64"
      ]
     },
     "metadata": {},
     "output_type": "display_data"
    },
    {
     "data": {
      "text/plain": [
       "0    (3.964, 22.0]\n",
       "1     (22.0, 40.0]\n",
       "2     (22.0, 40.0]\n",
       "3     (22.0, 40.0]\n",
       "4    (3.964, 22.0]\n",
       "5    (3.964, 22.0]\n",
       "6    (3.964, 22.0]\n",
       "7    (3.964, 22.0]\n",
       "8    (3.964, 22.0]\n",
       "9    (3.964, 22.0]\n",
       "Name: draw, dtype: category\n",
       "Categories (2, interval[float64]): [(3.964, 22.0] < (22.0, 40.0]]"
      ]
     },
     "metadata": {},
     "output_type": "display_data"
    },
    {
     "data": {
      "text/plain": [
       "(3.964, 22.0]    7\n",
       "(22.0, 40.0]     3\n",
       "Name: draw, dtype: int64"
      ]
     },
     "metadata": {},
     "output_type": "display_data"
    },
    {
     "data": {
      "text/plain": [
       "0    (3.999, 16.0]\n",
       "1     (16.0, 40.0]\n",
       "2     (16.0, 40.0]\n",
       "3     (16.0, 40.0]\n",
       "4    (3.999, 16.0]\n",
       "5    (3.999, 16.0]\n",
       "6     (16.0, 40.0]\n",
       "7     (16.0, 40.0]\n",
       "8    (3.999, 16.0]\n",
       "9    (3.999, 16.0]\n",
       "Name: draw, dtype: category\n",
       "Categories (2, interval[float64]): [(3.999, 16.0] < (16.0, 40.0]]"
      ]
     },
     "metadata": {},
     "output_type": "display_data"
    },
    {
     "data": {
      "text/plain": [
       "(16.0, 40.0]     5\n",
       "(3.999, 16.0]    5\n",
       "Name: draw, dtype: int64"
      ]
     },
     "metadata": {},
     "output_type": "display_data"
    }
   ],
   "source": [
    "#AI-TECHGYM-N-8\n",
    "\n",
    "import pandas as pd\n",
    "\n",
    "# データの準備\n",
    "hand1 = {'id'  :['100','101','102','103','104','105','106','107','108','109'],\n",
    "    'gender'  :['男性','男性','女性','男性','女性','男性','女性','女性','男性','男性'],\n",
    "    'age'  :['30代','20代','10代','10代','40代','50代','40代','10代','20代','10代'],\n",
    "    'address'  :['東京','大阪','名古屋','北海道','東京','鹿児島','大阪','名古屋','東京','大阪'],\n",
    "    'hobby'  :['野球','ルーレット','じゃんけん','野球','ルーレット','野球','じゃんけん','ルーレット','野球','じゃんけん'],\n",
    "    'job'  :['IT','医療','弁護士','事務','事務','弁護士','IT','IT','IT','事務'],\n",
    "    'win'  :[20,21, 4,60,14,10,12,19,12,14],\n",
    "    'lose'  :[24,15,35, 3,35,29, 2,12,11,43],\n",
    "    'draw':[15,40,34,29,14, 4,22,17,12,10]}\n",
    "\n",
    "hand_df1 = pd.DataFrame(hand1)\n",
    "\n",
    "#分割の粒度\n",
    "draw_bins = [1, 20, 40]\n",
    "\n",
    "# ビン分割の実施\n",
    "hand_df1_draw_bins = pd.cut(hand_df1.draw, draw_bins)\n",
    "display(hand_df1_draw_bins)\n",
    "display(pd.value_counts(hand_df1_draw_bins))\n",
    "\n",
    "#中央値で2分割\n",
    "hand_df1_draw_bins_cut = pd.cut(hand_df1.draw, 2)\n",
    "display(hand_df1_draw_bins_cut)\n",
    "display(pd.value_counts(hand_df1_draw_bins_cut))\n",
    "\n",
    "#データ個数が均等になるように2分割\n",
    "hand_df1_draw_bins_qcut = pd.qcut(hand_df1.draw, 2)\n",
    "display(hand_df1_draw_bins_qcut)\n",
    "display(pd.value_counts(hand_df1_draw_bins_qcut))\n"
   ]
  },
  {
   "cell_type": "code",
   "execution_count": 46,
   "metadata": {
    "scrolled": true
   },
   "outputs": [
    {
     "data": {
      "text/html": [
       "<div>\n",
       "<style scoped>\n",
       "    .dataframe tbody tr th:only-of-type {\n",
       "        vertical-align: middle;\n",
       "    }\n",
       "\n",
       "    .dataframe tbody tr th {\n",
       "        vertical-align: top;\n",
       "    }\n",
       "\n",
       "    .dataframe thead th {\n",
       "        text-align: right;\n",
       "    }\n",
       "</style>\n",
       "<table border=\"1\" class=\"dataframe\">\n",
       "  <thead>\n",
       "    <tr style=\"text-align: right;\">\n",
       "      <th></th>\n",
       "      <th>feature</th>\n",
       "      <th>gender</th>\n",
       "      <th>age</th>\n",
       "      <th>win</th>\n",
       "      <th>lose</th>\n",
       "      <th>draw</th>\n",
       "    </tr>\n",
       "    <tr>\n",
       "      <th>NUM</th>\n",
       "      <th>番号</th>\n",
       "      <th></th>\n",
       "      <th></th>\n",
       "      <th></th>\n",
       "      <th></th>\n",
       "      <th></th>\n",
       "    </tr>\n",
       "  </thead>\n",
       "  <tbody>\n",
       "    <tr>\n",
       "      <th>100</th>\n",
       "      <th>0</th>\n",
       "      <td>男性</td>\n",
       "      <td>30代</td>\n",
       "      <td>20</td>\n",
       "      <td>24</td>\n",
       "      <td>15</td>\n",
       "    </tr>\n",
       "    <tr>\n",
       "      <th>101</th>\n",
       "      <th>1</th>\n",
       "      <td>男性</td>\n",
       "      <td>20代</td>\n",
       "      <td>21</td>\n",
       "      <td>15</td>\n",
       "      <td>40</td>\n",
       "    </tr>\n",
       "    <tr>\n",
       "      <th>102</th>\n",
       "      <th>2</th>\n",
       "      <td>女性</td>\n",
       "      <td>10代</td>\n",
       "      <td>4</td>\n",
       "      <td>35</td>\n",
       "      <td>34</td>\n",
       "    </tr>\n",
       "    <tr>\n",
       "      <th>103</th>\n",
       "      <th>3</th>\n",
       "      <td>男性</td>\n",
       "      <td>10代</td>\n",
       "      <td>60</td>\n",
       "      <td>3</td>\n",
       "      <td>29</td>\n",
       "    </tr>\n",
       "    <tr>\n",
       "      <th>104</th>\n",
       "      <th>4</th>\n",
       "      <td>女性</td>\n",
       "      <td>40代</td>\n",
       "      <td>14</td>\n",
       "      <td>35</td>\n",
       "      <td>14</td>\n",
       "    </tr>\n",
       "    <tr>\n",
       "      <th>105</th>\n",
       "      <th>5</th>\n",
       "      <td>男性</td>\n",
       "      <td>50代</td>\n",
       "      <td>10</td>\n",
       "      <td>29</td>\n",
       "      <td>4</td>\n",
       "    </tr>\n",
       "    <tr>\n",
       "      <th>106</th>\n",
       "      <th>6</th>\n",
       "      <td>女性</td>\n",
       "      <td>40代</td>\n",
       "      <td>12</td>\n",
       "      <td>2</td>\n",
       "      <td>22</td>\n",
       "    </tr>\n",
       "    <tr>\n",
       "      <th>107</th>\n",
       "      <th>7</th>\n",
       "      <td>女性</td>\n",
       "      <td>10代</td>\n",
       "      <td>19</td>\n",
       "      <td>12</td>\n",
       "      <td>17</td>\n",
       "    </tr>\n",
       "    <tr>\n",
       "      <th>108</th>\n",
       "      <th>8</th>\n",
       "      <td>男性</td>\n",
       "      <td>20代</td>\n",
       "      <td>12</td>\n",
       "      <td>11</td>\n",
       "      <td>12</td>\n",
       "    </tr>\n",
       "    <tr>\n",
       "      <th>109</th>\n",
       "      <th>9</th>\n",
       "      <td>男性</td>\n",
       "      <td>10代</td>\n",
       "      <td>14</td>\n",
       "      <td>43</td>\n",
       "      <td>10</td>\n",
       "    </tr>\n",
       "  </tbody>\n",
       "</table>\n",
       "</div>"
      ],
      "text/plain": [
       "feature gender  age  win  lose  draw\n",
       "NUM 番号                              \n",
       "100 0       男性  30代   20    24    15\n",
       "101 1       男性  20代   21    15    40\n",
       "102 2       女性  10代    4    35    34\n",
       "103 3       男性  10代   60     3    29\n",
       "104 4       女性  40代   14    35    14\n",
       "105 5       男性  50代   10    29     4\n",
       "106 6       女性  40代   12     2    22\n",
       "107 7       女性  10代   19    12    17\n",
       "108 8       男性  20代   12    11    12\n",
       "109 9       男性  10代   14    43    10"
      ]
     },
     "execution_count": 46,
     "metadata": {},
     "output_type": "execute_result"
    }
   ],
   "source": [
    "hand_df2"
   ]
  }
 ],
 "metadata": {
  "kernelspec": {
   "display_name": "Python 3",
   "language": "python",
   "name": "python3"
  },
  "language_info": {
   "codemirror_mode": {
    "name": "ipython",
    "version": 3
   },
   "file_extension": ".py",
   "mimetype": "text/x-python",
   "name": "python",
   "nbconvert_exporter": "python",
   "pygments_lexer": "ipython3",
   "version": "3.7.3"
  }
 },
 "nbformat": 4,
 "nbformat_minor": 2
}
