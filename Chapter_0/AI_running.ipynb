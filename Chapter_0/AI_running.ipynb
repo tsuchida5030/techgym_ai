{
 "cells": [
  {
   "cell_type": "code",
   "execution_count": 52,
   "metadata": {
    "scrolled": false
   },
   "outputs": [
    {
     "data": {
      "text/plain": [
       "'回帰係数:'"
      ]
     },
     "metadata": {},
     "output_type": "display_data"
    },
    {
     "data": {
      "text/plain": [
       "array([1.56022048])"
      ]
     },
     "metadata": {},
     "output_type": "display_data"
    },
    {
     "data": {
      "text/plain": [
       "'切片:'"
      ]
     },
     "metadata": {},
     "output_type": "display_data"
    },
    {
     "data": {
      "text/plain": [
       "-15.22574059566955"
      ]
     },
     "metadata": {},
     "output_type": "display_data"
    },
    {
     "name": "stdout",
     "output_type": "stream",
     "text": [
      "決定係数: 0.2985138336694635\n"
     ]
    },
    {
     "data": {
      "image/png": "[encoded data removed]",
      "text/plain": [
       "<Figure size 432x288 with 1 Axes>"
      ]
     },
     "metadata": {
      "needs_background": "light"
     },
     "output_type": "display_data"
    }
   ],
   "source": [
    "#AI-TECHGYM-N-16\n",
    "\n",
    "import pandas as pd\n",
    "import urllib\n",
    "import seaborn as sns\n",
    "import numpy as np\n",
    "import matplotlib.pyplot as plt\n",
    "%matplotlib inline\n",
    "\n",
    "import os\n",
    "os.chdir('C:/Users/tsuchida/Documents/techgym_セミナー/TortoiseGit_resorce/techgym_ai/Chapter_0/Answer_sheet/AI_Chapter0_saved_files')\n",
    "\n",
    "#線形単回帰\n",
    "from sklearn import linear_model\n",
    "\n",
    "#データの取得\n",
    "data = \"https://archive.ics.uci.edu/ml/machine-learning-databases/wine/wine.data\"\n",
    "wine = pd.read_csv(data, header=None)\n",
    "\n",
    "txt= \"https://archive.ics.uci.edu/ml/machine-learning-databases/wine/wine.names\"\n",
    "urllib.request.urlretrieve(txt, './wine.names')\n",
    "\n",
    "#説明文の表示(必要であれば表示)\n",
    "#f = open(\"./wine.names\",\"r\")\n",
    "#for line in f:\n",
    "#    print(line)\n",
    "#f.close()\n",
    "\n",
    "#indexを説明からつける\n",
    "#アルコール,リンゴ酸,灰,灰分のアルカリ度,マグネシウム,総フェノール,フラバノイド\n",
    "#非フラバノイドフェノール,プロアントシアニン,色の濃さ,色相,希釈ワインのOD 280 / OD 315,プロリン\n",
    "columns_name = ['class','Alcohol','Malic_acid','Ash',\n",
    "                'Alcalinity_of_ash','Magnesium','Total_phenols',\n",
    "                'Flavanoids','Nonflavanoid_phenols','Proanthocyanins',\n",
    "                'Color_intensity','Hue','OD280_OD315','Proline']\n",
    "wine.columns = columns_name\n",
    "\n",
    "\n",
    "# 線形回帰インスタンス\n",
    "REG = linear_model.LinearRegression()\n",
    "\n",
    "#説明変数\n",
    "X = wine.loc[:,['Alcohol']].values\n",
    "\n",
    "# 目的変数\n",
    "Y = wine.loc[:,'Color_intensity'].values\n",
    "\n",
    "# 予測モデルを計算、ここでa,bを算出\n",
    "REG.fit(X, Y)\n",
    " \n",
    "# 回帰係数\n",
    "display('回帰係数:', REG.coef_)\n",
    "# 切片 \n",
    "display('切片:', REG.intercept_)\n",
    "\n",
    "# 先ほどと同じ散布図\n",
    "plt.scatter(wine['Alcohol'], wine['Color_intensity'])\n",
    "plt.xlabel('Alcohol')\n",
    "plt.ylabel('Color_intensity')\n",
    "\n",
    "# その上に線形回帰直線を引く\n",
    "x = np.linspace(11, 14.8, 100).reshape(-1, 1)\n",
    "plt.scatter(x, REG.predict(x), s=10)\n",
    "plt.grid(True)\n",
    "\n",
    "# 決定係数\n",
    "print('決定係数:', REG.score(X,Y))\n"
   ]
  }
 ],
 "metadata": {
  "kernelspec": {
   "display_name": "Python 3",
   "language": "python",
   "name": "python3"
  },
  "language_info": {
   "codemirror_mode": {
    "name": "ipython",
    "version": 3
   },
   "file_extension": ".py",
   "mimetype": "text/x-python",
   "name": "python",
   "nbconvert_exporter": "python",
   "pygments_lexer": "ipython3",
   "version": "3.7.3"
  }
 },
 "nbformat": 4,
 "nbformat_minor": 2
}
