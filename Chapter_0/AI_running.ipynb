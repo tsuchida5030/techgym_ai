{
 "cells": [
  {
   "cell_type": "code",
   "execution_count": 41,
   "metadata": {
    "scrolled": false
   },
   "outputs": [
    {
     "name": "stdout",
     "output_type": "stream",
     "text": [
      "回帰係数：[45435.8025931]\n",
      "切片: -96206.07951476038\n"
     ]
    }
   ],
   "source": [
    "#AI-TECHGYM-N-21\n",
    "\n",
    "# ライブラリのインポート\n",
    "import pandas as pd\n",
    "\n",
    "from sklearn.linear_model import LinearRegression\n",
    "\n",
    "import os\n",
    "os.chdir('C:/Users/tsuchida/Documents/techgym_セミナー/TortoiseGit_resorce/techgym_ai/Chapter_0/Answer_sheet/AI_Chapter0_saved_files')\n",
    "\n",
    "#データの読み込み\n",
    "#http://www.kaggle.com/c/house-prices-advanced-regression-techniques/download/train.csv\n",
    "house_train = pd.read_csv(\"./train.csv\")\n",
    "#display(house_train)\n",
    "\n",
    "#http://www.kaggle.com/c/house-prices-advanced-regression-techniques/download/test.csv\n",
    "house_test = pd.read_csv(\"./test.csv\")\n",
    "#display(house_test)\n",
    "\n",
    "#NaNデータ\n",
    "# print(house_train.isnull().sum())\n",
    "# print(house_test.isnull().sum())\n",
    "\n",
    "#データ型の確認\n",
    "# house_train.info()\n",
    "# house_test.info()\n",
    "\n",
    "#データの準備\n",
    "X = house_train[['OverallQual']]\n",
    "y = house_train['SalePrice']\n",
    "\n",
    "# 線形回帰\n",
    "slr = LinearRegression()\n",
    "\n",
    "# fit関数でモデル作成\n",
    "slr.fit(X, y)\n",
    "\n",
    "# 回帰係数\n",
    "print('回帰係数：{0}'.format(slr.coef_))\n",
    "\n",
    "# 切片(直線とy軸との交点)を出力\n",
    "print('切片: {0}'.format(slr.intercept_))\n",
    "\n",
    "#テストデータ、NaNがあるところは前の値で埋める\n",
    "X_test = house_test.fillna(method='ffill').loc[:, ['OverallQual']]\n",
    "\n",
    "# 学習済みのモデルから予測した結果をセット\n",
    "y_test_pred = slr.predict(X_test)\n",
    "\n",
    "#必要であれば予測した結果を出力\n",
    "#display(y_test_pred)\n",
    "\n",
    "# df_testに SalePrice カラムを追加し、学習済みのモデルから予測した結果をセット\n",
    "house_test['SalePrice'] = pd.Series(y_test_pred)\n",
    "\n",
    "#提出するデータ形式に出力\n",
    "house_test[[\"Id\",\"SalePrice\"]].to_csv(\"submission.csv\",index=False)\n"
   ]
  },
  {
   "cell_type": "code",
   "execution_count": 42,
   "metadata": {
    "scrolled": true
   },
   "outputs": [
    {
     "name": "stdout",
     "output_type": "stream",
     "text": [
      "<class 'numpy.ndarray'>\n"
     ]
    }
   ],
   "source": [
    "print(type(y_test_pred))"
   ]
  }
 ],
 "metadata": {
  "kernelspec": {
   "display_name": "Python 3",
   "language": "python",
   "name": "python3"
  },
  "language_info": {
   "codemirror_mode": {
    "name": "ipython",
    "version": 3
   },
   "file_extension": ".py",
   "mimetype": "text/x-python",
   "name": "python",
   "nbconvert_exporter": "python",
   "pygments_lexer": "ipython3",
   "version": "3.7.3"
  }
 },
 "nbformat": 4,
 "nbformat_minor": 2
}
