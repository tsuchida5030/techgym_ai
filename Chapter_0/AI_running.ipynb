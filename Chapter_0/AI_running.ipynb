{
 "cells": [
  {
   "cell_type": "code",
   "execution_count": 8,
   "metadata": {},
   "outputs": [
    {
     "data": {
      "text/plain": [
       "array([[ 1, -1, -1],\n",
       "       [-1,  1, -1],\n",
       "       [-1, -1,  1]])"
      ]
     },
     "metadata": {},
     "output_type": "display_data"
    },
    {
     "data": {
      "text/plain": [
       "'行列式'"
      ]
     },
     "metadata": {},
     "output_type": "display_data"
    },
    {
     "data": {
      "text/plain": [
       "-4.0"
      ]
     },
     "metadata": {},
     "output_type": "display_data"
    },
    {
     "data": {
      "text/plain": [
       "'逆行列'"
      ]
     },
     "metadata": {},
     "output_type": "display_data"
    },
    {
     "data": {
      "text/plain": [
       "array([[ 0. , -0.5, -0.5],\n",
       "       [-0.5, -0. , -0.5],\n",
       "       [-0.5, -0.5,  0. ]])"
      ]
     },
     "metadata": {},
     "output_type": "display_data"
    },
    {
     "data": {
      "text/plain": [
       "'固有値'"
      ]
     },
     "metadata": {},
     "output_type": "display_data"
    },
    {
     "data": {
      "text/plain": [
       "array([-1.+0.j,  2.+0.j,  2.+0.j])"
      ]
     },
     "metadata": {},
     "output_type": "display_data"
    },
    {
     "data": {
      "text/plain": [
       "'固有ベクトル'"
      ]
     },
     "metadata": {},
     "output_type": "display_data"
    },
    {
     "data": {
      "text/plain": [
       "array([[ 0.58, -0.82,  0.43],\n",
       "       [ 0.58,  0.41, -0.82],\n",
       "       [ 0.58,  0.41,  0.39]])"
      ]
     },
     "metadata": {},
     "output_type": "display_data"
    }
   ],
   "source": [
    "#AI-TECHGYM-N-C1\n",
    "import numpy as np\n",
    "import scipy.linalg as linalg\n",
    "\n",
    "matrix = np.array([[1,-1,-1], [-1,1,-1], [-1,-1,1]])\n",
    "display(matrix)\n",
    "\n",
    "# 行列式\n",
    "det_matrix = linalg.det(matrix)\n",
    "display('行列式')\n",
    "display(det_matrix)\n",
    "\n",
    "\n",
    "# 逆行列\n",
    "invers_matrix = linalg.inv(matrix)\n",
    "display('逆行列')\n",
    "display(invers_matrix)\n",
    "\n",
    "\n",
    "\n",
    "\n",
    "# 固有値と固有ベクトル\n",
    "eig_value, eig_vector = linalg.eig(matrix)\n",
    "eig_vector = np.round(eig_vector, 2)\n",
    "\n",
    "# 固有値と固有ベクトル\n",
    "display('固有値')\n",
    "display(eig_value)\n",
    "display('固有ベクトル')\n",
    "display(eig_vector)"
   ]
  }
 ],
 "metadata": {
  "kernelspec": {
   "display_name": "Python 3",
   "language": "python",
   "name": "python3"
  },
  "language_info": {
   "codemirror_mode": {
    "name": "ipython",
    "version": 3
   },
   "file_extension": ".py",
   "mimetype": "text/x-python",
   "name": "python",
   "nbconvert_exporter": "python",
   "pygments_lexer": "ipython3",
   "version": "3.7.3"
  }
 },
 "nbformat": 4,
 "nbformat_minor": 2
}
